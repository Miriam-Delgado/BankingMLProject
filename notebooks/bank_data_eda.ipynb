{
 "cells": [
  {
   "cell_type": "markdown",
   "id": "c9aefe49",
   "metadata": {},
   "source": [
    "- SRC :  https://www.kaggle.com/datasets/yogeshtekawade/banking-and-customer-transaction-data\n",
    "    - bank_data.csv - performance financière des agences bancaires données synthétiques mais réalistes, avec du bruit et des valeurs manquantes pour simuler un environnement réel\n",
    "        Ce fichier offre une vue macro sur la performance des agences. Il peut être utilisé pour enrichir les données clients avec des indicateurs régionaux ou pour des analyses géographiques."
   ]
  },
  {
   "cell_type": "markdown",
   "id": "c3b133d8",
   "metadata": {},
   "source": [
    "## Chargement des données\n",
    "## Nettoyage des données"
   ]
  },
  {
   "cell_type": "code",
   "execution_count": 1,
   "id": "9c4edc80",
   "metadata": {},
   "outputs": [
    {
     "name": "stderr",
     "output_type": "stream",
     "text": [
      "c:\\Users\\Admin\\anaconda3\\Lib\\site-packages\\pandas\\core\\arrays\\masked.py:60: UserWarning: Pandas requires version '1.3.6' or newer of 'bottleneck' (version '1.3.5' currently installed).\n",
      "  from pandas.core import (\n"
     ]
    }
   ],
   "source": [
    "import pandas as pd\n",
    "import numpy as np\n",
    "import matplotlib.pyplot as plt\n",
    "import seaborn as sns\n",
    "import matplotlib.pyplot as plt\n",
    "import os"
   ]
  },
  {
   "cell_type": "code",
   "execution_count": 2,
   "id": "3e15de26",
   "metadata": {},
   "outputs": [
    {
     "name": "stdout",
     "output_type": "stream",
     "text": [
      "C:\\Users\\Admin\\Desktop\\BankingMLProject\\data\\bank_data.csv\n"
     ]
    },
    {
     "data": {
      "text/plain": [
       "'C:\\\\Users\\\\Admin\\\\Desktop\\\\BankingMLProject\\\\data\\\\bank_data.csv'"
      ]
     },
     "execution_count": 2,
     "metadata": {},
     "output_type": "execute_result"
    }
   ],
   "source": [
    "directory_path = r'C:\\Users\\Admin\\Desktop\\BankingMLProject\\data'\n",
    "filename = 'bank_data.csv'\n",
    "filename_path = os.path.join(directory_path, filename)\n",
    "print(os.path.join(directory_path, filename))\n",
    "filename_path"
   ]
  },
  {
   "cell_type": "code",
   "execution_count": 3,
   "id": "c112d6d0",
   "metadata": {},
   "outputs": [],
   "source": [
    "# Chargement du fichier\n",
    "df = pd.read_csv(filename_path)"
   ]
  },
  {
   "cell_type": "code",
   "execution_count": 4,
   "id": "5c90e5d5",
   "metadata": {},
   "outputs": [
    {
     "data": {
      "text/html": [
       "<div>\n",
       "<style scoped>\n",
       "    .dataframe tbody tr th:only-of-type {\n",
       "        vertical-align: middle;\n",
       "    }\n",
       "\n",
       "    .dataframe tbody tr th {\n",
       "        vertical-align: top;\n",
       "    }\n",
       "\n",
       "    .dataframe thead th {\n",
       "        text-align: right;\n",
       "    }\n",
       "</style>\n",
       "<table border=\"1\" class=\"dataframe\">\n",
       "  <thead>\n",
       "    <tr style=\"text-align: right;\">\n",
       "      <th></th>\n",
       "      <th>Branch_ID</th>\n",
       "      <th>City</th>\n",
       "      <th>Region</th>\n",
       "      <th>Firm_Revenue</th>\n",
       "      <th>Expenses</th>\n",
       "      <th>Profit_Margin</th>\n",
       "    </tr>\n",
       "  </thead>\n",
       "  <tbody>\n",
       "    <tr>\n",
       "      <th>0</th>\n",
       "      <td>1000</td>\n",
       "      <td>Solapur</td>\n",
       "      <td>East</td>\n",
       "      <td>422443.0</td>\n",
       "      <td>346471</td>\n",
       "      <td>56.31</td>\n",
       "    </tr>\n",
       "    <tr>\n",
       "      <th>1</th>\n",
       "      <td>1001</td>\n",
       "      <td>Mumbai</td>\n",
       "      <td>North</td>\n",
       "      <td>211155.0</td>\n",
       "      <td>216256</td>\n",
       "      <td>79.53</td>\n",
       "    </tr>\n",
       "    <tr>\n",
       "      <th>2</th>\n",
       "      <td>1002</td>\n",
       "      <td>Nashik</td>\n",
       "      <td>West</td>\n",
       "      <td>985006.0</td>\n",
       "      <td>71777</td>\n",
       "      <td>55.31</td>\n",
       "    </tr>\n",
       "    <tr>\n",
       "      <th>3</th>\n",
       "      <td>1003</td>\n",
       "      <td>Solapur</td>\n",
       "      <td>North</td>\n",
       "      <td>55113.0</td>\n",
       "      <td>253655</td>\n",
       "      <td>2.57</td>\n",
       "    </tr>\n",
       "    <tr>\n",
       "      <th>4</th>\n",
       "      <td>1004</td>\n",
       "      <td>Nagpur</td>\n",
       "      <td>West</td>\n",
       "      <td>282701.0</td>\n",
       "      <td>148194</td>\n",
       "      <td>-14.10</td>\n",
       "    </tr>\n",
       "  </tbody>\n",
       "</table>\n",
       "</div>"
      ],
      "text/plain": [
       "   Branch_ID     City Region  Firm_Revenue  Expenses  Profit_Margin\n",
       "0       1000  Solapur   East      422443.0    346471          56.31\n",
       "1       1001   Mumbai  North      211155.0    216256          79.53\n",
       "2       1002   Nashik   West      985006.0     71777          55.31\n",
       "3       1003  Solapur  North       55113.0    253655           2.57\n",
       "4       1004   Nagpur   West      282701.0    148194         -14.10"
      ]
     },
     "execution_count": 4,
     "metadata": {},
     "output_type": "execute_result"
    }
   ],
   "source": [
    "# Affichage des 5 premières lignes pour inspection\n",
    "df.head()"
   ]
  },
  {
   "cell_type": "code",
   "execution_count": 5,
   "id": "6e26191a",
   "metadata": {},
   "outputs": [
    {
     "name": "stdout",
     "output_type": "stream",
     "text": [
      "Index(['Branch_ID', 'City', 'Region', 'Firm_Revenue', 'Expenses',\n",
      "       'Profit_Margin'],\n",
      "      dtype='object')\n"
     ]
    }
   ],
   "source": [
    "print(df.columns)"
   ]
  },
  {
   "cell_type": "code",
   "execution_count": 6,
   "id": "54c155eb",
   "metadata": {},
   "outputs": [
    {
     "name": "stdout",
     "output_type": "stream",
     "text": [
      "<class 'pandas.core.frame.DataFrame'>\n",
      "RangeIndex: 1000 entries, 0 to 999\n",
      "Data columns (total 6 columns):\n",
      " #   Column         Non-Null Count  Dtype  \n",
      "---  ------         --------------  -----  \n",
      " 0   Branch_ID      1000 non-null   int64  \n",
      " 1   City           1000 non-null   object \n",
      " 2   Region         1000 non-null   object \n",
      " 3   Firm_Revenue   950 non-null    float64\n",
      " 4   Expenses       1000 non-null   int64  \n",
      " 5   Profit_Margin  1000 non-null   float64\n",
      "dtypes: float64(2), int64(2), object(2)\n",
      "memory usage: 47.0+ KB\n"
     ]
    }
   ],
   "source": [
    "df.info()"
   ]
  },
  {
   "cell_type": "markdown",
   "id": "a339cd30",
   "metadata": {},
   "source": [
    " - conversion nécéssaire des dtypes: float64(2), int64(2), object(2)\n",
    "    1   City object \n",
    "    2   Region         object \n",
    "    3   Firm_Revenue   float64  \n",
    "    5   Profit_Margin  float64\n"
   ]
  },
  {
   "cell_type": "code",
   "execution_count": 7,
   "id": "ce675512",
   "metadata": {},
   "outputs": [
    {
     "data": {
      "text/html": [
       "<div>\n",
       "<style scoped>\n",
       "    .dataframe tbody tr th:only-of-type {\n",
       "        vertical-align: middle;\n",
       "    }\n",
       "\n",
       "    .dataframe tbody tr th {\n",
       "        vertical-align: top;\n",
       "    }\n",
       "\n",
       "    .dataframe thead th {\n",
       "        text-align: right;\n",
       "    }\n",
       "</style>\n",
       "<table border=\"1\" class=\"dataframe\">\n",
       "  <thead>\n",
       "    <tr style=\"text-align: right;\">\n",
       "      <th></th>\n",
       "      <th>Branch_ID</th>\n",
       "      <th>Firm_Revenue</th>\n",
       "      <th>Expenses</th>\n",
       "      <th>Profit_Margin</th>\n",
       "    </tr>\n",
       "  </thead>\n",
       "  <tbody>\n",
       "    <tr>\n",
       "      <th>count</th>\n",
       "      <td>1000.000000</td>\n",
       "      <td>950.000000</td>\n",
       "      <td>1000.00000</td>\n",
       "      <td>1000.000000</td>\n",
       "    </tr>\n",
       "    <tr>\n",
       "      <th>mean</th>\n",
       "      <td>1499.500000</td>\n",
       "      <td>514074.181053</td>\n",
       "      <td>265325.99100</td>\n",
       "      <td>24.561410</td>\n",
       "    </tr>\n",
       "    <tr>\n",
       "      <th>std</th>\n",
       "      <td>288.819436</td>\n",
       "      <td>278665.374536</td>\n",
       "      <td>140572.96154</td>\n",
       "      <td>42.757352</td>\n",
       "    </tr>\n",
       "    <tr>\n",
       "      <th>min</th>\n",
       "      <td>1000.000000</td>\n",
       "      <td>51241.000000</td>\n",
       "      <td>20520.00000</td>\n",
       "      <td>-49.500000</td>\n",
       "    </tr>\n",
       "    <tr>\n",
       "      <th>25%</th>\n",
       "      <td>1249.750000</td>\n",
       "      <td>260637.500000</td>\n",
       "      <td>145412.75000</td>\n",
       "      <td>-13.470000</td>\n",
       "    </tr>\n",
       "    <tr>\n",
       "      <th>50%</th>\n",
       "      <td>1499.500000</td>\n",
       "      <td>518348.500000</td>\n",
       "      <td>265404.00000</td>\n",
       "      <td>24.320000</td>\n",
       "    </tr>\n",
       "    <tr>\n",
       "      <th>75%</th>\n",
       "      <td>1749.250000</td>\n",
       "      <td>746103.750000</td>\n",
       "      <td>394530.50000</td>\n",
       "      <td>61.475000</td>\n",
       "    </tr>\n",
       "    <tr>\n",
       "      <th>max</th>\n",
       "      <td>1999.000000</td>\n",
       "      <td>999975.000000</td>\n",
       "      <td>499568.00000</td>\n",
       "      <td>99.970000</td>\n",
       "    </tr>\n",
       "  </tbody>\n",
       "</table>\n",
       "</div>"
      ],
      "text/plain": [
       "         Branch_ID   Firm_Revenue      Expenses  Profit_Margin\n",
       "count  1000.000000     950.000000    1000.00000    1000.000000\n",
       "mean   1499.500000  514074.181053  265325.99100      24.561410\n",
       "std     288.819436  278665.374536  140572.96154      42.757352\n",
       "min    1000.000000   51241.000000   20520.00000     -49.500000\n",
       "25%    1249.750000  260637.500000  145412.75000     -13.470000\n",
       "50%    1499.500000  518348.500000  265404.00000      24.320000\n",
       "75%    1749.250000  746103.750000  394530.50000      61.475000\n",
       "max    1999.000000  999975.000000  499568.00000      99.970000"
      ]
     },
     "execution_count": 7,
     "metadata": {},
     "output_type": "execute_result"
    }
   ],
   "source": [
    "df.describe()"
   ]
  },
  {
   "cell_type": "code",
   "execution_count": 8,
   "id": "1f824a1a",
   "metadata": {},
   "outputs": [
    {
     "data": {
      "text/plain": [
       "Branch_ID        1000\n",
       "City                6\n",
       "Region              4\n",
       "Firm_Revenue      950\n",
       "Expenses          999\n",
       "Profit_Margin     974\n",
       "dtype: int64"
      ]
     },
     "execution_count": 8,
     "metadata": {},
     "output_type": "execute_result"
    }
   ],
   "source": [
    "df.nunique()"
   ]
  },
  {
   "cell_type": "markdown",
   "id": "e06d382f",
   "metadata": {},
   "source": [
    "## Nettoyage des données"
   ]
  },
  {
   "cell_type": "code",
   "execution_count": 9,
   "id": "fcaa50bc",
   "metadata": {},
   "outputs": [
    {
     "data": {
      "text/plain": [
       "Branch_ID         0\n",
       "City              0\n",
       "Region            0\n",
       "Firm_Revenue     50\n",
       "Expenses          0\n",
       "Profit_Margin     0\n",
       "dtype: int64"
      ]
     },
     "execution_count": 9,
     "metadata": {},
     "output_type": "execute_result"
    }
   ],
   "source": [
    "# Vérification des valeurs manquantes\n",
    "df.isnull().sum()\n"
   ]
  },
  {
   "cell_type": "code",
   "execution_count": 10,
   "id": "9b3d1443",
   "metadata": {},
   "outputs": [],
   "source": [
    "missing_values = df.isnull().sum()\n",
    "percentage_missing_values = (missing_values / len(df)) * 100\n",
    "total_missing_values = df.isnull().sum().sum()\n",
    "total_cells = df.shape[0] * df.shape[1]\n",
    "total_missing_percentage = (total_missing_values / total_cells) * 100\n"
   ]
  },
  {
   "cell_type": "code",
   "execution_count": 11,
   "id": "0f8b71d6",
   "metadata": {},
   "outputs": [
    {
     "name": "stdout",
     "output_type": "stream",
     "text": [
      "Branch_ID        0.0\n",
      "City             0.0\n",
      "Region           0.0\n",
      "Firm_Revenue     5.0\n",
      "Expenses         0.0\n",
      "Profit_Margin    0.0\n",
      "dtype: float64\n",
      "50\n",
      "6000\n",
      "0.8333333333333334\n"
     ]
    }
   ],
   "source": [
    "print(percentage_missing_values)\n",
    "print(total_missing_values)\n",
    "print(total_cells)\n",
    "print(total_missing_percentage)"
   ]
  },
  {
   "cell_type": "code",
   "execution_count": 12,
   "id": "ea56f01d",
   "metadata": {},
   "outputs": [],
   "source": [
    "df_imputed_mean = df.copy()"
   ]
  },
  {
   "cell_type": "code",
   "execution_count": 13,
   "id": "3dbe72a2",
   "metadata": {},
   "outputs": [
    {
     "name": "stderr",
     "output_type": "stream",
     "text": [
      "C:\\Users\\Admin\\AppData\\Local\\Temp\\ipykernel_13376\\1179901816.py:1: FutureWarning: A value is trying to be set on a copy of a DataFrame or Series through chained assignment using an inplace method.\n",
      "The behavior will change in pandas 3.0. This inplace method will never work because the intermediate object on which we are setting values always behaves as a copy.\n",
      "\n",
      "For example, when doing 'df[col].method(value, inplace=True)', try using 'df.method({col: value}, inplace=True)' or df[col] = df[col].method(value) instead, to perform the operation inplace on the original object.\n",
      "\n",
      "\n",
      "  df_imputed_mean['Firm_Revenue'].fillna(df_imputed_mean['Firm_Revenue'].mean(), inplace=True)\n"
     ]
    }
   ],
   "source": [
    "df_imputed_mean['Firm_Revenue'].fillna(df_imputed_mean['Firm_Revenue'].mean(), inplace=True)"
   ]
  },
  {
   "cell_type": "code",
   "execution_count": 14,
   "id": "029dfa22",
   "metadata": {},
   "outputs": [],
   "source": [
    "# Vérification des doublons\n",
    "df.drop_duplicates(inplace=True)"
   ]
  },
  {
   "cell_type": "code",
   "execution_count": 15,
   "id": "9443cb92",
   "metadata": {},
   "outputs": [],
   "source": [
    "# Encodage des variables catégorielles\n",
    "df_encoded = pd.get_dummies(df, drop_first=True)"
   ]
  },
  {
   "cell_type": "code",
   "execution_count": 16,
   "id": "56ac4634",
   "metadata": {},
   "outputs": [
    {
     "name": "stdout",
     "output_type": "stream",
     "text": [
      "\n",
      "DataFrame nettoyé sauvegardé avec succès dans : C:\\Users\\Admin\\Desktop\\BankingMLProject\\data\\bank_data_cleaned.csv\n"
     ]
    }
   ],
   "source": [
    "# Sauvegarde du dossier 'transaction_data_cleaned' pour la suite du projet\n",
    "output_directory = r\"C:\\Users\\Admin\\Desktop\\BankingMLProject\\data\"\n",
    "\n",
    "# Nom du fichier CSV de sortie\n",
    "output_filename = \"bank_data_cleaned.csv\"\n",
    "\n",
    "# Création du chemin complet du fichier de sortie\n",
    "output_filepath = os.path.join(output_directory, output_filename)\n",
    "\n",
    "#Sauvegarder du DataFrame nettoyé en CSV\n",
    "try:\n",
    "    # index=False pour ne pas écrire l'index du DataFrame comme une colonne dans le CSV\n",
    "    df.to_csv(output_filepath, index=False)\n",
    "    print(f\"\\nDataFrame nettoyé sauvegardé avec succès dans : {output_filepath}\")\n",
    "except Exception as e:\n",
    "    print(f\"\\nUne erreur est survenue lors de la sauvegarde : {e}\")"
   ]
  }
 ],
 "metadata": {
  "kernelspec": {
   "display_name": "base",
   "language": "python",
   "name": "python3"
  },
  "language_info": {
   "codemirror_mode": {
    "name": "ipython",
    "version": 3
   },
   "file_extension": ".py",
   "mimetype": "text/x-python",
   "name": "python",
   "nbconvert_exporter": "python",
   "pygments_lexer": "ipython3",
   "version": "3.11.5"
  }
 },
 "nbformat": 4,
 "nbformat_minor": 5
}
