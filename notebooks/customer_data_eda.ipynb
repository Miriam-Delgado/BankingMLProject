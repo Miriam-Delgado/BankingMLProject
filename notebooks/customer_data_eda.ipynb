{
 "cells": [
  {
   "cell_type": "markdown",
   "id": "3371d1ab",
   "metadata": {},
   "source": [
    "- SRC :  https://www.kaggle.com/datasets/yogeshtekawade/banking-and-customer-transaction-data\n",
    "    - customer_data.csv - données démographiques et profils client\n",
    "        - Utilité : segmentation client, ciblage marketing, prédiction de churn\n",
    "            - Ce fichier permet de relier les comportements transactionnels à des profils clients distincts, ce qui est essentiel pour une classification supervisée."
   ]
  },
  {
   "cell_type": "markdown",
   "id": "e22c765e",
   "metadata": {},
   "source": [
    "## Chargement des données\n",
    "## Nettoyage des données"
   ]
  },
  {
   "cell_type": "markdown",
   "id": "e8a9affb",
   "metadata": {},
   "source": []
  },
  {
   "cell_type": "code",
   "execution_count": 2,
   "id": "e81291cb",
   "metadata": {},
   "outputs": [
    {
     "name": "stderr",
     "output_type": "stream",
     "text": [
      "c:\\Users\\Admin\\anaconda3\\Lib\\site-packages\\pandas\\core\\arrays\\masked.py:60: UserWarning: Pandas requires version '1.3.6' or newer of 'bottleneck' (version '1.3.5' currently installed).\n",
      "  from pandas.core import (\n"
     ]
    }
   ],
   "source": [
    "import pandas as pd\n",
    "import numpy as np\n",
    "import matplotlib.pyplot as plt\n",
    "import seaborn as sns\n",
    "import matplotlib.pyplot as plt\n",
    "import os"
   ]
  },
  {
   "cell_type": "code",
   "execution_count": 3,
   "id": "79821372",
   "metadata": {},
   "outputs": [
    {
     "name": "stdout",
     "output_type": "stream",
     "text": [
      "C:\\Users\\Admin\\Desktop\\BankingMLProject\\data\\customer_data.csv\n"
     ]
    },
    {
     "data": {
      "text/plain": [
       "'C:\\\\Users\\\\Admin\\\\Desktop\\\\BankingMLProject\\\\data\\\\customer_data.csv'"
      ]
     },
     "execution_count": 3,
     "metadata": {},
     "output_type": "execute_result"
    }
   ],
   "source": [
    "directory_path = r'C:\\Users\\Admin\\Desktop\\BankingMLProject\\data'\n",
    "filename = 'customer_data.csv'\n",
    "filename_path = os.path.join(directory_path, filename)\n",
    "print(os.path.join(directory_path, filename))\n",
    "filename_path"
   ]
  },
  {
   "cell_type": "code",
   "execution_count": 4,
   "id": "53515b64",
   "metadata": {},
   "outputs": [],
   "source": [
    "# Chargement du fichier\n",
    "df = pd.read_csv(filename_path)"
   ]
  },
  {
   "cell_type": "code",
   "execution_count": 5,
   "id": "82115efe",
   "metadata": {},
   "outputs": [
    {
     "data": {
      "text/html": [
       "<div>\n",
       "<style scoped>\n",
       "    .dataframe tbody tr th:only-of-type {\n",
       "        vertical-align: middle;\n",
       "    }\n",
       "\n",
       "    .dataframe tbody tr th {\n",
       "        vertical-align: top;\n",
       "    }\n",
       "\n",
       "    .dataframe thead th {\n",
       "        text-align: right;\n",
       "    }\n",
       "</style>\n",
       "<table border=\"1\" class=\"dataframe\">\n",
       "  <thead>\n",
       "    <tr style=\"text-align: right;\">\n",
       "      <th></th>\n",
       "      <th>Customer_ID</th>\n",
       "      <th>Age</th>\n",
       "      <th>Customer_Type</th>\n",
       "      <th>City</th>\n",
       "      <th>Region</th>\n",
       "      <th>Bank_Name</th>\n",
       "      <th>Branch_ID</th>\n",
       "    </tr>\n",
       "  </thead>\n",
       "  <tbody>\n",
       "    <tr>\n",
       "      <th>0</th>\n",
       "      <td>200000</td>\n",
       "      <td>56.0</td>\n",
       "      <td>Employee</td>\n",
       "      <td>Pune</td>\n",
       "      <td>North</td>\n",
       "      <td>HDFC Bank</td>\n",
       "      <td>1350</td>\n",
       "    </tr>\n",
       "    <tr>\n",
       "      <th>1</th>\n",
       "      <td>200001</td>\n",
       "      <td>69.0</td>\n",
       "      <td>NaN</td>\n",
       "      <td>Kolhapur</td>\n",
       "      <td>East</td>\n",
       "      <td>HDFC Bank</td>\n",
       "      <td>1648</td>\n",
       "    </tr>\n",
       "    <tr>\n",
       "      <th>2</th>\n",
       "      <td>200002</td>\n",
       "      <td>46.0</td>\n",
       "      <td>Business</td>\n",
       "      <td>Pune</td>\n",
       "      <td>West</td>\n",
       "      <td>HDFC Bank</td>\n",
       "      <td>1798</td>\n",
       "    </tr>\n",
       "    <tr>\n",
       "      <th>3</th>\n",
       "      <td>200003</td>\n",
       "      <td>32.0</td>\n",
       "      <td>Individual</td>\n",
       "      <td>Pune</td>\n",
       "      <td>West</td>\n",
       "      <td>HDFC Bank</td>\n",
       "      <td>1900</td>\n",
       "    </tr>\n",
       "    <tr>\n",
       "      <th>4</th>\n",
       "      <td>200004</td>\n",
       "      <td>NaN</td>\n",
       "      <td>Business</td>\n",
       "      <td>Kolhapur</td>\n",
       "      <td>East</td>\n",
       "      <td>HDFC Bank</td>\n",
       "      <td>1227</td>\n",
       "    </tr>\n",
       "  </tbody>\n",
       "</table>\n",
       "</div>"
      ],
      "text/plain": [
       "   Customer_ID   Age Customer_Type      City Region  Bank_Name  Branch_ID\n",
       "0       200000  56.0      Employee      Pune  North  HDFC Bank       1350\n",
       "1       200001  69.0           NaN  Kolhapur   East  HDFC Bank       1648\n",
       "2       200002  46.0      Business      Pune   West  HDFC Bank       1798\n",
       "3       200003  32.0    Individual      Pune   West  HDFC Bank       1900\n",
       "4       200004   NaN      Business  Kolhapur   East  HDFC Bank       1227"
      ]
     },
     "execution_count": 5,
     "metadata": {},
     "output_type": "execute_result"
    }
   ],
   "source": [
    "# Affichage des 5 premières lignes pour inspection\n",
    "df.head()"
   ]
  },
  {
   "cell_type": "code",
   "execution_count": 6,
   "id": "9bbb2405",
   "metadata": {},
   "outputs": [
    {
     "name": "stdout",
     "output_type": "stream",
     "text": [
      "Index(['Customer_ID', 'Age', 'Customer_Type', 'City', 'Region', 'Bank_Name',\n",
      "       'Branch_ID'],\n",
      "      dtype='object')\n"
     ]
    }
   ],
   "source": [
    "print(df.columns)"
   ]
  },
  {
   "cell_type": "code",
   "execution_count": 7,
   "id": "c7fcc838",
   "metadata": {},
   "outputs": [
    {
     "name": "stdout",
     "output_type": "stream",
     "text": [
      "<class 'pandas.core.frame.DataFrame'>\n",
      "RangeIndex: 10000 entries, 0 to 9999\n",
      "Data columns (total 7 columns):\n",
      " #   Column         Non-Null Count  Dtype  \n",
      "---  ------         --------------  -----  \n",
      " 0   Customer_ID    10000 non-null  int64  \n",
      " 1   Age            9500 non-null   float64\n",
      " 2   Customer_Type  9500 non-null   object \n",
      " 3   City           9500 non-null   object \n",
      " 4   Region         10000 non-null  object \n",
      " 5   Bank_Name      10000 non-null  object \n",
      " 6   Branch_ID      10000 non-null  int64  \n",
      "dtypes: float64(1), int64(2), object(4)\n",
      "memory usage: 547.0+ KB\n"
     ]
    }
   ],
   "source": [
    "df.info()"
   ]
  },
  {
   "cell_type": "code",
   "execution_count": 8,
   "id": "629d37af",
   "metadata": {},
   "outputs": [
    {
     "data": {
      "text/html": [
       "<div>\n",
       "<style scoped>\n",
       "    .dataframe tbody tr th:only-of-type {\n",
       "        vertical-align: middle;\n",
       "    }\n",
       "\n",
       "    .dataframe tbody tr th {\n",
       "        vertical-align: top;\n",
       "    }\n",
       "\n",
       "    .dataframe thead th {\n",
       "        text-align: right;\n",
       "    }\n",
       "</style>\n",
       "<table border=\"1\" class=\"dataframe\">\n",
       "  <thead>\n",
       "    <tr style=\"text-align: right;\">\n",
       "      <th></th>\n",
       "      <th>Customer_ID</th>\n",
       "      <th>Age</th>\n",
       "      <th>Branch_ID</th>\n",
       "    </tr>\n",
       "  </thead>\n",
       "  <tbody>\n",
       "    <tr>\n",
       "      <th>count</th>\n",
       "      <td>10000.00000</td>\n",
       "      <td>9500.000000</td>\n",
       "      <td>10000.000000</td>\n",
       "    </tr>\n",
       "    <tr>\n",
       "      <th>mean</th>\n",
       "      <td>204999.50000</td>\n",
       "      <td>48.754421</td>\n",
       "      <td>1497.829300</td>\n",
       "    </tr>\n",
       "    <tr>\n",
       "      <th>std</th>\n",
       "      <td>2886.89568</td>\n",
       "      <td>17.919179</td>\n",
       "      <td>288.758237</td>\n",
       "    </tr>\n",
       "    <tr>\n",
       "      <th>min</th>\n",
       "      <td>200000.00000</td>\n",
       "      <td>18.000000</td>\n",
       "      <td>1000.000000</td>\n",
       "    </tr>\n",
       "    <tr>\n",
       "      <th>25%</th>\n",
       "      <td>202499.75000</td>\n",
       "      <td>33.000000</td>\n",
       "      <td>1246.000000</td>\n",
       "    </tr>\n",
       "    <tr>\n",
       "      <th>50%</th>\n",
       "      <td>204999.50000</td>\n",
       "      <td>49.000000</td>\n",
       "      <td>1499.000000</td>\n",
       "    </tr>\n",
       "    <tr>\n",
       "      <th>75%</th>\n",
       "      <td>207499.25000</td>\n",
       "      <td>64.000000</td>\n",
       "      <td>1747.000000</td>\n",
       "    </tr>\n",
       "    <tr>\n",
       "      <th>max</th>\n",
       "      <td>209999.00000</td>\n",
       "      <td>79.000000</td>\n",
       "      <td>1999.000000</td>\n",
       "    </tr>\n",
       "  </tbody>\n",
       "</table>\n",
       "</div>"
      ],
      "text/plain": [
       "        Customer_ID          Age     Branch_ID\n",
       "count   10000.00000  9500.000000  10000.000000\n",
       "mean   204999.50000    48.754421   1497.829300\n",
       "std      2886.89568    17.919179    288.758237\n",
       "min    200000.00000    18.000000   1000.000000\n",
       "25%    202499.75000    33.000000   1246.000000\n",
       "50%    204999.50000    49.000000   1499.000000\n",
       "75%    207499.25000    64.000000   1747.000000\n",
       "max    209999.00000    79.000000   1999.000000"
      ]
     },
     "execution_count": 8,
     "metadata": {},
     "output_type": "execute_result"
    }
   ],
   "source": [
    "df.describe()"
   ]
  },
  {
   "cell_type": "code",
   "execution_count": 9,
   "id": "e026dbfa",
   "metadata": {},
   "outputs": [
    {
     "data": {
      "text/plain": [
       "Customer_ID      10000\n",
       "Age                 62\n",
       "Customer_Type        3\n",
       "City                 6\n",
       "Region               4\n",
       "Bank_Name            1\n",
       "Branch_ID         1000\n",
       "dtype: int64"
      ]
     },
     "execution_count": 9,
     "metadata": {},
     "output_type": "execute_result"
    }
   ],
   "source": [
    "df.nunique()"
   ]
  },
  {
   "cell_type": "markdown",
   "id": "84306742",
   "metadata": {},
   "source": [
    "## Nettoyage des données"
   ]
  },
  {
   "cell_type": "code",
   "execution_count": 10,
   "id": "302f8801",
   "metadata": {},
   "outputs": [
    {
     "data": {
      "text/plain": [
       "Customer_ID        0\n",
       "Age              500\n",
       "Customer_Type    500\n",
       "City             500\n",
       "Region             0\n",
       "Bank_Name          0\n",
       "Branch_ID          0\n",
       "dtype: int64"
      ]
     },
     "execution_count": 10,
     "metadata": {},
     "output_type": "execute_result"
    }
   ],
   "source": [
    "# Vérification des valeurs manquantes\n",
    "df.isnull().sum()\n"
   ]
  },
  {
   "cell_type": "markdown",
   "id": "852cc653",
   "metadata": {},
   "source": [
    "Valeurs manquantes : est-ce negligeable ?\n",
    "Age              500\n",
    "Customer_Type    500\n",
    "City             500"
   ]
  },
  {
   "cell_type": "code",
   "execution_count": 11,
   "id": "428a4871",
   "metadata": {},
   "outputs": [
    {
     "name": "stdout",
     "output_type": "stream",
     "text": [
      "Customer_ID      0.0\n",
      "Age              5.0\n",
      "Customer_Type    5.0\n",
      "City             5.0\n",
      "Region           0.0\n",
      "Bank_Name        0.0\n",
      "Branch_ID        0.0\n",
      "dtype: float64\n"
     ]
    }
   ],
   "source": [
    "missing_values = df.isnull().sum()\n",
    "percentage_missing_values = (missing_values / len(df)) * 100\n",
    "print(percentage_missing_values)"
   ]
  },
  {
   "cell_type": "code",
   "execution_count": 12,
   "id": "307213f7",
   "metadata": {},
   "outputs": [
    {
     "name": "stdout",
     "output_type": "stream",
     "text": [
      "1500\n"
     ]
    }
   ],
   "source": [
    "total_missing_values = df.isnull().sum().sum()\n",
    "print(total_missing_values)"
   ]
  },
  {
   "cell_type": "code",
   "execution_count": 13,
   "id": "0315026d",
   "metadata": {},
   "outputs": [
    {
     "name": "stdout",
     "output_type": "stream",
     "text": [
      "70000\n"
     ]
    }
   ],
   "source": [
    "total_cells = df.shape[0] * df.shape[1]\n",
    "print(total_cells)"
   ]
  },
  {
   "cell_type": "code",
   "execution_count": 14,
   "id": "c9d2403d",
   "metadata": {},
   "outputs": [
    {
     "name": "stdout",
     "output_type": "stream",
     "text": [
      "2.142857142857143\n"
     ]
    }
   ],
   "source": [
    "total_missing_percentage = (total_missing_values / total_cells) * 100\n",
    "print(total_missing_percentage)"
   ]
  },
  {
   "cell_type": "code",
   "execution_count": 15,
   "id": "8b4446e3",
   "metadata": {},
   "outputs": [
    {
     "data": {
      "text/plain": [
       "<Axes: xlabel='Age'>"
      ]
     },
     "execution_count": 15,
     "metadata": {},
     "output_type": "execute_result"
    },
    {
     "data": {
      "image/png": "[encoded data removed]",
      "text/plain": [
       "<Figure size 1000x400 with 1 Axes>"
      ]
     },
     "metadata": {},
     "output_type": "display_data"
    }
   ],
   "source": [
    "plt.figure(figsize=(10,4))\n",
    "sns.boxplot(data=df, x='Age')"
   ]
  },
  {
   "cell_type": "code",
   "execution_count": 16,
   "id": "debb30dc",
   "metadata": {},
   "outputs": [],
   "source": [
    "# Création d'une copie pour réaliser l'affectation de la moyenne\n",
    "df_imputed_mean = df.copy()"
   ]
  },
  {
   "cell_type": "code",
   "execution_count": 17,
   "id": "3d466609",
   "metadata": {},
   "outputs": [
    {
     "name": "stderr",
     "output_type": "stream",
     "text": [
      "C:\\Users\\Admin\\AppData\\Local\\Temp\\ipykernel_10856\\4268044983.py:1: FutureWarning: A value is trying to be set on a copy of a DataFrame or Series through chained assignment using an inplace method.\n",
      "The behavior will change in pandas 3.0. This inplace method will never work because the intermediate object on which we are setting values always behaves as a copy.\n",
      "\n",
      "For example, when doing 'df[col].method(value, inplace=True)', try using 'df.method({col: value}, inplace=True)' or df[col] = df[col].method(value) instead, to perform the operation inplace on the original object.\n",
      "\n",
      "\n",
      "  df_imputed_mean['Age'].fillna(df_imputed_mean['Age'].mean(), inplace=True)\n"
     ]
    }
   ],
   "source": [
    "df_imputed_mean['Age'].fillna(df_imputed_mean['Age'].mean(), inplace=True)"
   ]
  },
  {
   "cell_type": "code",
   "execution_count": 18,
   "id": "a03530a2",
   "metadata": {},
   "outputs": [
    {
     "name": "stdout",
     "output_type": "stream",
     "text": [
      "\n"
     ]
    }
   ],
   "source": [
    "# Vérification des doublons\n",
    "df.drop_duplicates(inplace=True)\n",
    "print()"
   ]
  },
  {
   "cell_type": "code",
   "execution_count": 21,
   "id": "f12a88a0",
   "metadata": {},
   "outputs": [
    {
     "name": "stdout",
     "output_type": "stream",
     "text": [
      "   Customer_ID   Age  Branch_ID  Customer_Type_Employee  \\\n",
      "0       200000  56.0       1350                    True   \n",
      "1       200001  69.0       1648                   False   \n",
      "2       200002  46.0       1798                   False   \n",
      "3       200003  32.0       1900                   False   \n",
      "4       200004   NaN       1227                   False   \n",
      "\n",
      "   Customer_Type_Individual  City_Mumbai  City_Nagpur  City_Nashik  City_Pune  \\\n",
      "0                     False        False        False        False       True   \n",
      "1                     False        False        False        False      False   \n",
      "2                     False        False        False        False       True   \n",
      "3                      True        False        False        False       True   \n",
      "4                     False        False        False        False      False   \n",
      "\n",
      "   City_Solapur  Region_North  Region_South  Region_West  \n",
      "0         False          True         False        False  \n",
      "1         False         False         False        False  \n",
      "2         False         False         False         True  \n",
      "3         False         False         False         True  \n",
      "4         False         False         False        False  \n"
     ]
    }
   ],
   "source": [
    "# Encodage des variables catégorielles\n",
    "df_encoded = pd.get_dummies(df, drop_first=True)\n",
    "print (df_encoded.head())"
   ]
  },
  {
   "cell_type": "code",
   "execution_count": null,
   "id": "8b16033a",
   "metadata": {},
   "outputs": [
    {
     "name": "stdout",
     "output_type": "stream",
     "text": [
      "\n",
      "DataFrame nettoyé sauvegardé avec succès dans : C:\\Users\\Admin\\Desktop\\BankingMLProject\\data\\customer_data_cleaned.csv\n"
     ]
    }
   ],
   "source": [
    "# Sauvegarde du dossier 'transaction_data_cleaned' pour la suite du projet\n",
    "output_directory = r\"C:\\Users\\Admin\\Desktop\\BankingMLProject\\data\"\n",
    "\n",
    "# Nom du fichier CSV de sortie\n",
    "output_filename = \"customer_data_cleaned.csv\"\n",
    "\n",
    "# Création du chemin complet du fichier de sortie\n",
    "output_filepath = os.path.join(output_directory, output_filename)\n",
    "\n",
    "#Sauvegarder du DataFrame nettoyé en CSV\n",
    "try:\n",
    "    # index=False pour ne pas écrire l'index du DataFrame comme une colonne dans le CSV\n",
    "    df.to_csv(output_filepath, index=False)\n",
    "    print(f\"\\nDataFrame nettoyé sauvegardé avec succès dans : {output_filepath}\")\n",
    "except Exception as e:\n",
    "    print(f\"\\nUne erreur est survenue lors de la sauvegarde : {e}\")"
   ]
  }
 ],
 "metadata": {
  "kernelspec": {
   "display_name": "base",
   "language": "python",
   "name": "python3"
  },
  "language_info": {
   "codemirror_mode": {
    "name": "ipython",
    "version": 3
   },
   "file_extension": ".py",
   "mimetype": "text/x-python",
   "name": "python",
   "nbconvert_exporter": "python",
   "pygments_lexer": "ipython3",
   "version": "3.11.5"
  }
 },
 "nbformat": 4,
 "nbformat_minor": 5
}
