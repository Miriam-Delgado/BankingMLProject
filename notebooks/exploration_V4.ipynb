{
 "cells": [
  {
   "cell_type": "markdown",
   "id": "e1cbf46f",
   "metadata": {},
   "source": [
    "#"
   ]
  },
  {
   "cell_type": "markdown",
   "id": "eb09c0f2",
   "metadata": {},
   "source": [
    "## Données bancaires et transactions des clients"
   ]
  },
  {
   "cell_type": "markdown",
   "id": "63e9402c",
   "metadata": {},
   "source": [
    "### Source et structure de données :\n",
    "- SRC :  https://www.kaggle.com/datasets/yogeshtekawade/banking-and-customer-transaction-data\n",
    "    - HDFC Bank\n",
    "    - customer_data.csv - données démographiques et profils client\n",
    "    - transaction_data.csv - historique des transactions et investissements\n",
    "    - bank_data.csv - performance financière des agences bancaires données synthétiques mais réalistes, avec du bruit et des valeurs manquantes pour simuler un environnement réel"
   ]
  },
  {
   "cell_type": "markdown",
   "id": "70372abe",
   "metadata": {},
   "source": [
    "## Chargement des données\n",
    "## Nettoyage des données\n",
    "    Pour garantir la fiabilité du modèle. L’encodage par one-hot permet de transformer les variables qualitatives en une forme compréhensible pour les algorithmes d’apprentissage supervisé, tout en évitant le piège de la variable dummy trap (drop_first=True).\n",
    "## Séparation des variables\n",
    "## Entraînement du modèle de l'Arbre de décision (Decision Tree)\n",
    "Division des données en jeu d’entraînement et de test (70/30). On limite la profondeur de l’arbre à 3 pour éviter l’overfitting.\n",
    "## Visualisation avec dtreeviz \n",
    "La bibliothèque dtreeviz offre une visualisation élégante et explicite de l’arbre de décision avec les splits, les proportions et les classes.  essentielle pour les parties prenantes non techniques. L’outil permet une interprétation intuitive du modèle en metttant en lumière les facteurs clés influençant la décision, ce qui facilite l’analyse métier."
   ]
  },
  {
   "cell_type": "code",
   "execution_count": null,
   "id": "d1d42af0",
   "metadata": {},
   "outputs": [
    {
     "name": "stderr",
     "output_type": "stream",
     "text": [
      "c:\\Users\\Admin\\anaconda3\\Lib\\site-packages\\pandas\\core\\arrays\\masked.py:60: UserWarning: Pandas requires version '1.3.6' or newer of 'bottleneck' (version '1.3.5' currently installed).\n",
      "  from pandas.core import (\n"
     ]
    }
   ],
   "source": [
    "import pandas as pd\n",
    "import numpy as np\n",
    "import matplotlib.pyplot as plt\n",
    "import seaborn as sns\n",
    "import os"
   ]
  },
  {
   "cell_type": "markdown",
   "id": "6de7a0c4",
   "metadata": {},
   "source": [
    "#Fusion des fichiers via les clés primaires Customer_ID et Branch_ID\n",
    "#Cible : prédire le type d’investissement\n",
    "#Entrainement d'un modèle de classification Random Forest et Arbre de décision\n",
    "#Visualisation avec dtreeviz pour interpréter les décisions"
   ]
  },
  {
   "cell_type": "code",
   "execution_count": 31,
   "id": "f4fbd9a3",
   "metadata": {},
   "outputs": [],
   "source": [
    "import dtreeviz\n",
    "import graphviz"
   ]
  },
  {
   "cell_type": "code",
   "execution_count": 4,
   "id": "391a95a7",
   "metadata": {},
   "outputs": [],
   "source": [
    "directory_path = r'C:\\Users\\Admin\\Desktop\\BankingMLProject\\data'\n",
    "bank_filename = 'bank_data_cleaned.csv'\n",
    "customer_filename = 'customer_data_cleaned.csv'\n",
    "transactions_filename = 'transaction_data_cleaned.csv'"
   ]
  },
  {
   "cell_type": "code",
   "execution_count": 6,
   "id": "c53e4c13",
   "metadata": {},
   "outputs": [
    {
     "name": "stdout",
     "output_type": "stream",
     "text": [
      "(10000, 7) (10000, 8) (1000, 6)\n"
     ]
    }
   ],
   "source": [
    "# Création du fichier fusioned_data.csv\n",
    "# Chargement des fichiers CSV\n",
    "clients = pd.read_csv(os.path.join(directory_path, customer_filename))\n",
    "transactions = pd.read_csv(os.path.join(directory_path,transactions_filename))\n",
    "banques = pd.read_csv(os.path.join(directory_path,bank_filename))\n",
    "\n",
    "# Aperçu rapide\n",
    "print(clients.shape, transactions.shape, banques.shape)"
   ]
  },
  {
   "cell_type": "code",
   "execution_count": 7,
   "id": "384cfdca",
   "metadata": {},
   "outputs": [
    {
     "name": "stdout",
     "output_type": "stream",
     "text": [
      "Index(['Customer_ID', 'Age', 'Customer_Type', 'City', 'Region', 'Bank_Name',\n",
      "       'Branch_ID'],\n",
      "      dtype='object') Index(['Transaction_ID', 'Customer_ID', 'Account_Type', 'Total_Balance',\n",
      "       'Transaction_Amount', 'Investment_Amount', 'Investment_Type',\n",
      "       'Transaction_Date'],\n",
      "      dtype='object') Index(['Branch_ID', 'City', 'Region', 'Firm_Revenue', 'Expenses',\n",
      "       'Profit_Margin'],\n",
      "      dtype='object')\n"
     ]
    }
   ],
   "source": [
    "print(clients.columns, transactions.columns, banques.columns)"
   ]
  },
  {
   "cell_type": "code",
   "execution_count": 22,
   "id": "89699afd",
   "metadata": {},
   "outputs": [
    {
     "data": {
      "text/html": [
       "<div>\n",
       "<style scoped>\n",
       "    .dataframe tbody tr th:only-of-type {\n",
       "        vertical-align: middle;\n",
       "    }\n",
       "\n",
       "    .dataframe tbody tr th {\n",
       "        vertical-align: top;\n",
       "    }\n",
       "\n",
       "    .dataframe thead th {\n",
       "        text-align: right;\n",
       "    }\n",
       "</style>\n",
       "<table border=\"1\" class=\"dataframe\">\n",
       "  <thead>\n",
       "    <tr style=\"text-align: right;\">\n",
       "      <th></th>\n",
       "      <th>Transaction_ID</th>\n",
       "      <th>Customer_ID</th>\n",
       "      <th>Account_Type</th>\n",
       "      <th>Total_Balance</th>\n",
       "      <th>Transaction_Amount</th>\n",
       "      <th>Investment_Amount</th>\n",
       "      <th>Investment_Type</th>\n",
       "      <th>Transaction_Date</th>\n",
       "      <th>Age</th>\n",
       "      <th>Customer_Type</th>\n",
       "      <th>City</th>\n",
       "      <th>Region</th>\n",
       "      <th>Bank_Name</th>\n",
       "      <th>Branch_ID</th>\n",
       "      <th>Firm_Revenue</th>\n",
       "      <th>Expenses</th>\n",
       "      <th>Profit_Margin</th>\n",
       "    </tr>\n",
       "  </thead>\n",
       "  <tbody>\n",
       "    <tr>\n",
       "      <th>0</th>\n",
       "      <td>302143.0</td>\n",
       "      <td>200000</td>\n",
       "      <td>Current</td>\n",
       "      <td>53364.0</td>\n",
       "      <td>2426.00000</td>\n",
       "      <td>11595.0</td>\n",
       "      <td>Fixed Deposit</td>\n",
       "      <td>2023-10-11</td>\n",
       "      <td>56.0</td>\n",
       "      <td>Employee</td>\n",
       "      <td>Pune</td>\n",
       "      <td>North</td>\n",
       "      <td>HDFC Bank</td>\n",
       "      <td>1350</td>\n",
       "      <td>NaN</td>\n",
       "      <td>NaN</td>\n",
       "      <td>NaN</td>\n",
       "    </tr>\n",
       "    <tr>\n",
       "      <th>1</th>\n",
       "      <td>307114.0</td>\n",
       "      <td>200000</td>\n",
       "      <td>Business</td>\n",
       "      <td>10698.0</td>\n",
       "      <td>2428.00000</td>\n",
       "      <td>9783.0</td>\n",
       "      <td>Fixed Deposit</td>\n",
       "      <td>2024-08-30</td>\n",
       "      <td>56.0</td>\n",
       "      <td>Employee</td>\n",
       "      <td>Pune</td>\n",
       "      <td>North</td>\n",
       "      <td>HDFC Bank</td>\n",
       "      <td>1350</td>\n",
       "      <td>NaN</td>\n",
       "      <td>NaN</td>\n",
       "      <td>NaN</td>\n",
       "    </tr>\n",
       "    <tr>\n",
       "      <th>2</th>\n",
       "      <td>301850.0</td>\n",
       "      <td>200001</td>\n",
       "      <td>Savings</td>\n",
       "      <td>96731.0</td>\n",
       "      <td>6491.08681</td>\n",
       "      <td>1411.0</td>\n",
       "      <td>Recurring Deposit</td>\n",
       "      <td>2023-07-14</td>\n",
       "      <td>69.0</td>\n",
       "      <td>NaN</td>\n",
       "      <td>Kolhapur</td>\n",
       "      <td>East</td>\n",
       "      <td>HDFC Bank</td>\n",
       "      <td>1648</td>\n",
       "      <td>NaN</td>\n",
       "      <td>NaN</td>\n",
       "      <td>NaN</td>\n",
       "    </tr>\n",
       "    <tr>\n",
       "      <th>3</th>\n",
       "      <td>304462.0</td>\n",
       "      <td>200001</td>\n",
       "      <td>Business</td>\n",
       "      <td>44704.0</td>\n",
       "      <td>2506.00000</td>\n",
       "      <td>26519.0</td>\n",
       "      <td>Mutual Fund</td>\n",
       "      <td>2023-07-17</td>\n",
       "      <td>69.0</td>\n",
       "      <td>NaN</td>\n",
       "      <td>Kolhapur</td>\n",
       "      <td>East</td>\n",
       "      <td>HDFC Bank</td>\n",
       "      <td>1648</td>\n",
       "      <td>NaN</td>\n",
       "      <td>NaN</td>\n",
       "      <td>NaN</td>\n",
       "    </tr>\n",
       "    <tr>\n",
       "      <th>4</th>\n",
       "      <td>NaN</td>\n",
       "      <td>200002</td>\n",
       "      <td>NaN</td>\n",
       "      <td>NaN</td>\n",
       "      <td>NaN</td>\n",
       "      <td>NaN</td>\n",
       "      <td>NaN</td>\n",
       "      <td>NaN</td>\n",
       "      <td>46.0</td>\n",
       "      <td>Business</td>\n",
       "      <td>Pune</td>\n",
       "      <td>West</td>\n",
       "      <td>HDFC Bank</td>\n",
       "      <td>1798</td>\n",
       "      <td>NaN</td>\n",
       "      <td>NaN</td>\n",
       "      <td>NaN</td>\n",
       "    </tr>\n",
       "  </tbody>\n",
       "</table>\n",
       "</div>"
      ],
      "text/plain": [
       "   Transaction_ID  Customer_ID Account_Type  Total_Balance  \\\n",
       "0        302143.0       200000      Current        53364.0   \n",
       "1        307114.0       200000     Business        10698.0   \n",
       "2        301850.0       200001      Savings        96731.0   \n",
       "3        304462.0       200001     Business        44704.0   \n",
       "4             NaN       200002          NaN            NaN   \n",
       "\n",
       "   Transaction_Amount  Investment_Amount    Investment_Type Transaction_Date  \\\n",
       "0          2426.00000            11595.0      Fixed Deposit       2023-10-11   \n",
       "1          2428.00000             9783.0      Fixed Deposit       2024-08-30   \n",
       "2          6491.08681             1411.0  Recurring Deposit       2023-07-14   \n",
       "3          2506.00000            26519.0        Mutual Fund       2023-07-17   \n",
       "4                 NaN                NaN                NaN              NaN   \n",
       "\n",
       "    Age Customer_Type      City Region  Bank_Name  Branch_ID  Firm_Revenue  \\\n",
       "0  56.0      Employee      Pune  North  HDFC Bank       1350           NaN   \n",
       "1  56.0      Employee      Pune  North  HDFC Bank       1350           NaN   \n",
       "2  69.0           NaN  Kolhapur   East  HDFC Bank       1648           NaN   \n",
       "3  69.0           NaN  Kolhapur   East  HDFC Bank       1648           NaN   \n",
       "4  46.0      Business      Pune   West  HDFC Bank       1798           NaN   \n",
       "\n",
       "   Expenses  Profit_Margin  \n",
       "0       NaN            NaN  \n",
       "1       NaN            NaN  \n",
       "2       NaN            NaN  \n",
       "3       NaN            NaN  \n",
       "4       NaN            NaN  "
      ]
     },
     "execution_count": 22,
     "metadata": {},
     "output_type": "execute_result"
    }
   ],
   "source": [
    "# Fusion client + transactions\n",
    "df = pd.merge(transactions, clients, on='Customer_ID', how='right')\n",
    "\n",
    "# Fusion avec données bancaires via la ville et la région\n",
    "df = pd.merge(df, banques, on=['Branch_ID','City', 'Region'], how='left')\n",
    "\n",
    "# Vérification\n",
    "df.head()"
   ]
  },
  {
   "cell_type": "code",
   "execution_count": 23,
   "id": "e2f9a24d",
   "metadata": {},
   "outputs": [
    {
     "name": "stdout",
     "output_type": "stream",
     "text": [
      "\n",
      "DataFrame nettoyé sauvegardé avec succès dans : C:\\Users\\Admin\\Desktop\\BankingMLProject\\data\\data_cleaned.csv\n"
     ]
    }
   ],
   "source": [
    "# Sauvegarde du dossier 'cleaned_data'\n",
    "output_directory = r\"C:\\Users\\Admin\\Desktop\\BankingMLProject\\data\"\n",
    "\n",
    "# Nom du fichier CSV de sortie\n",
    "output_filename = \"data_cleaned.csv\"\n",
    "\n",
    "# Création du chemin complet du fichier de sortie\n",
    "output_filepath = os.path.join(output_directory, output_filename)\n",
    "\n",
    "#Sauvegarder du DataFrame nettoyé en CSV\n",
    "try:\n",
    "    # index=False pour ne pas écrire l'index du DataFrame comme une colonne dans le CSV\n",
    "    df.to_csv(output_filepath, index=False)\n",
    "    print(f\"\\nDataFrame nettoyé sauvegardé avec succès dans : {output_filepath}\")\n",
    "except Exception as e:\n",
    "    print(f\"\\nUne erreur est survenue lors de la sauvegarde : {e}\")"
   ]
  },
  {
   "cell_type": "markdown",
   "id": "89b313ca",
   "metadata": {},
   "source": [
    "    #les transactions aux clients via Customer_ID, puis on enrichit avec les données bancaires en croisant City et Region.\n",
    " #Fusion des fichiers pour créer une vue holistique du comportement client, en intégrant les facteurs individuels et contextuels (performance régionale)"
   ]
  },
  {
   "cell_type": "code",
   "execution_count": 12,
   "id": "b184fd58",
   "metadata": {},
   "outputs": [],
   "source": [
    "fusioned_filename = 'data_cleaned.csv'"
   ]
  },
  {
   "cell_type": "code",
   "execution_count": 13,
   "id": "ed7dbfbe",
   "metadata": {},
   "outputs": [],
   "source": [
    "# Chargement du fichier\n",
    "df = pd.read_csv(os.path.join(directory_path,transactions_filename))"
   ]
  },
  {
   "cell_type": "code",
   "execution_count": 14,
   "id": "ce42c8e7",
   "metadata": {},
   "outputs": [
    {
     "data": {
      "text/html": [
       "<div>\n",
       "<style scoped>\n",
       "    .dataframe tbody tr th:only-of-type {\n",
       "        vertical-align: middle;\n",
       "    }\n",
       "\n",
       "    .dataframe tbody tr th {\n",
       "        vertical-align: top;\n",
       "    }\n",
       "\n",
       "    .dataframe thead th {\n",
       "        text-align: right;\n",
       "    }\n",
       "</style>\n",
       "<table border=\"1\" class=\"dataframe\">\n",
       "  <thead>\n",
       "    <tr style=\"text-align: right;\">\n",
       "      <th></th>\n",
       "      <th>Transaction_ID</th>\n",
       "      <th>Customer_ID</th>\n",
       "      <th>Account_Type</th>\n",
       "      <th>Total_Balance</th>\n",
       "      <th>Transaction_Amount</th>\n",
       "      <th>Investment_Amount</th>\n",
       "      <th>Investment_Type</th>\n",
       "      <th>Transaction_Date</th>\n",
       "    </tr>\n",
       "  </thead>\n",
       "  <tbody>\n",
       "    <tr>\n",
       "      <th>0</th>\n",
       "      <td>300000</td>\n",
       "      <td>209689</td>\n",
       "      <td>Business</td>\n",
       "      <td>69339</td>\n",
       "      <td>4794.0</td>\n",
       "      <td>42580</td>\n",
       "      <td>Fixed Deposit</td>\n",
       "      <td>2024-12-08</td>\n",
       "    </tr>\n",
       "    <tr>\n",
       "      <th>1</th>\n",
       "      <td>300001</td>\n",
       "      <td>206124</td>\n",
       "      <td>Business</td>\n",
       "      <td>12825</td>\n",
       "      <td>3500.0</td>\n",
       "      <td>46605</td>\n",
       "      <td>Fixed Deposit</td>\n",
       "      <td>2022-09-09</td>\n",
       "    </tr>\n",
       "    <tr>\n",
       "      <th>2</th>\n",
       "      <td>300002</td>\n",
       "      <td>207501</td>\n",
       "      <td>Current</td>\n",
       "      <td>67753</td>\n",
       "      <td>2401.0</td>\n",
       "      <td>17027</td>\n",
       "      <td>Fixed Deposit</td>\n",
       "      <td>2022-04-28</td>\n",
       "    </tr>\n",
       "    <tr>\n",
       "      <th>3</th>\n",
       "      <td>300003</td>\n",
       "      <td>208675</td>\n",
       "      <td>Savings</td>\n",
       "      <td>67061</td>\n",
       "      <td>2952.0</td>\n",
       "      <td>3054</td>\n",
       "      <td>Fixed Deposit</td>\n",
       "      <td>2023-05-22</td>\n",
       "    </tr>\n",
       "    <tr>\n",
       "      <th>4</th>\n",
       "      <td>300004</td>\n",
       "      <td>204923</td>\n",
       "      <td>Business</td>\n",
       "      <td>8566</td>\n",
       "      <td>1025.0</td>\n",
       "      <td>44937</td>\n",
       "      <td>Fixed Deposit</td>\n",
       "      <td>2023-04-05</td>\n",
       "    </tr>\n",
       "  </tbody>\n",
       "</table>\n",
       "</div>"
      ],
      "text/plain": [
       "   Transaction_ID  Customer_ID Account_Type  Total_Balance  \\\n",
       "0          300000       209689     Business          69339   \n",
       "1          300001       206124     Business          12825   \n",
       "2          300002       207501      Current          67753   \n",
       "3          300003       208675      Savings          67061   \n",
       "4          300004       204923     Business           8566   \n",
       "\n",
       "   Transaction_Amount  Investment_Amount Investment_Type Transaction_Date  \n",
       "0              4794.0              42580   Fixed Deposit       2024-12-08  \n",
       "1              3500.0              46605   Fixed Deposit       2022-09-09  \n",
       "2              2401.0              17027   Fixed Deposit       2022-04-28  \n",
       "3              2952.0               3054   Fixed Deposit       2023-05-22  \n",
       "4              1025.0              44937   Fixed Deposit       2023-04-05  "
      ]
     },
     "execution_count": 14,
     "metadata": {},
     "output_type": "execute_result"
    }
   ],
   "source": [
    "# Affichage des 5 premières lignes pour inspection\n",
    "df.head()"
   ]
  },
  {
   "cell_type": "code",
   "execution_count": 24,
   "id": "3bda7ca6",
   "metadata": {},
   "outputs": [
    {
     "name": "stdout",
     "output_type": "stream",
     "text": [
      "Index(['Transaction_ID', 'Customer_ID', 'Account_Type', 'Total_Balance',\n",
      "       'Transaction_Amount', 'Investment_Amount', 'Investment_Type',\n",
      "       'Transaction_Date', 'Age', 'Customer_Type', 'City', 'Region',\n",
      "       'Bank_Name', 'Branch_ID', 'Firm_Revenue', 'Expenses', 'Profit_Margin'],\n",
      "      dtype='object')\n"
     ]
    }
   ],
   "source": [
    "print(df.columns)"
   ]
  },
  {
   "cell_type": "code",
   "execution_count": 25,
   "id": "5ef768e1",
   "metadata": {},
   "outputs": [
    {
     "name": "stdout",
     "output_type": "stream",
     "text": [
      "<class 'pandas.core.frame.DataFrame'>\n",
      "RangeIndex: 13665 entries, 0 to 13664\n",
      "Data columns (total 17 columns):\n",
      " #   Column              Non-Null Count  Dtype  \n",
      "---  ------              --------------  -----  \n",
      " 0   Transaction_ID      10000 non-null  float64\n",
      " 1   Customer_ID         13665 non-null  int64  \n",
      " 2   Account_Type        10000 non-null  object \n",
      " 3   Total_Balance       10000 non-null  float64\n",
      " 4   Transaction_Amount  10000 non-null  float64\n",
      " 5   Investment_Amount   10000 non-null  float64\n",
      " 6   Investment_Type     10000 non-null  object \n",
      " 7   Transaction_Date    10000 non-null  object \n",
      " 8   Age                 12982 non-null  float64\n",
      " 9   Customer_Type       12982 non-null  object \n",
      " 10  City                12996 non-null  object \n",
      " 11  Region              13665 non-null  object \n",
      " 12  Bank_Name           13665 non-null  object \n",
      " 13  Branch_ID           13665 non-null  int64  \n",
      " 14  Firm_Revenue        516 non-null    float64\n",
      " 15  Expenses            551 non-null    float64\n",
      " 16  Profit_Margin       551 non-null    float64\n",
      "dtypes: float64(8), int64(2), object(7)\n",
      "memory usage: 1.8+ MB\n"
     ]
    }
   ],
   "source": [
    "df.info()"
   ]
  },
  {
   "cell_type": "code",
   "execution_count": 26,
   "id": "3d6717e7",
   "metadata": {},
   "outputs": [
    {
     "data": {
      "text/html": [
       "<div>\n",
       "<style scoped>\n",
       "    .dataframe tbody tr th:only-of-type {\n",
       "        vertical-align: middle;\n",
       "    }\n",
       "\n",
       "    .dataframe tbody tr th {\n",
       "        vertical-align: top;\n",
       "    }\n",
       "\n",
       "    .dataframe thead th {\n",
       "        text-align: right;\n",
       "    }\n",
       "</style>\n",
       "<table border=\"1\" class=\"dataframe\">\n",
       "  <thead>\n",
       "    <tr style=\"text-align: right;\">\n",
       "      <th></th>\n",
       "      <th>Transaction_ID</th>\n",
       "      <th>Customer_ID</th>\n",
       "      <th>Total_Balance</th>\n",
       "      <th>Transaction_Amount</th>\n",
       "      <th>Investment_Amount</th>\n",
       "      <th>Age</th>\n",
       "      <th>Branch_ID</th>\n",
       "      <th>Firm_Revenue</th>\n",
       "      <th>Expenses</th>\n",
       "      <th>Profit_Margin</th>\n",
       "    </tr>\n",
       "  </thead>\n",
       "  <tbody>\n",
       "    <tr>\n",
       "      <th>count</th>\n",
       "      <td>10000.00000</td>\n",
       "      <td>13665.000000</td>\n",
       "      <td>10000.000000</td>\n",
       "      <td>10000.000000</td>\n",
       "      <td>10000.000000</td>\n",
       "      <td>12982.000000</td>\n",
       "      <td>13665.000000</td>\n",
       "      <td>516.000000</td>\n",
       "      <td>551.000000</td>\n",
       "      <td>551.000000</td>\n",
       "    </tr>\n",
       "    <tr>\n",
       "      <th>mean</th>\n",
       "      <td>304999.50000</td>\n",
       "      <td>205016.749433</td>\n",
       "      <td>50221.505800</td>\n",
       "      <td>2542.708056</td>\n",
       "      <td>25550.248400</td>\n",
       "      <td>48.899399</td>\n",
       "      <td>1497.923235</td>\n",
       "      <td>475000.562016</td>\n",
       "      <td>265863.210526</td>\n",
       "      <td>23.168657</td>\n",
       "    </tr>\n",
       "    <tr>\n",
       "      <th>std</th>\n",
       "      <td>2886.89568</td>\n",
       "      <td>2892.132240</td>\n",
       "      <td>28540.392011</td>\n",
       "      <td>1432.677420</td>\n",
       "      <td>14108.052078</td>\n",
       "      <td>18.012413</td>\n",
       "      <td>289.650966</td>\n",
       "      <td>268171.147271</td>\n",
       "      <td>143904.068760</td>\n",
       "      <td>43.021987</td>\n",
       "    </tr>\n",
       "    <tr>\n",
       "      <th>min</th>\n",
       "      <td>300000.00000</td>\n",
       "      <td>200000.000000</td>\n",
       "      <td>1003.000000</td>\n",
       "      <td>51.613952</td>\n",
       "      <td>1001.000000</td>\n",
       "      <td>18.000000</td>\n",
       "      <td>1000.000000</td>\n",
       "      <td>51903.000000</td>\n",
       "      <td>20654.000000</td>\n",
       "      <td>-49.500000</td>\n",
       "    </tr>\n",
       "    <tr>\n",
       "      <th>25%</th>\n",
       "      <td>302499.75000</td>\n",
       "      <td>202512.000000</td>\n",
       "      <td>25132.000000</td>\n",
       "      <td>1310.000000</td>\n",
       "      <td>13381.000000</td>\n",
       "      <td>33.000000</td>\n",
       "      <td>1244.000000</td>\n",
       "      <td>236731.750000</td>\n",
       "      <td>140565.000000</td>\n",
       "      <td>-13.275000</td>\n",
       "    </tr>\n",
       "    <tr>\n",
       "      <th>50%</th>\n",
       "      <td>304999.50000</td>\n",
       "      <td>205029.000000</td>\n",
       "      <td>50326.000000</td>\n",
       "      <td>2538.500000</td>\n",
       "      <td>25708.500000</td>\n",
       "      <td>49.000000</td>\n",
       "      <td>1499.000000</td>\n",
       "      <td>462175.500000</td>\n",
       "      <td>266335.000000</td>\n",
       "      <td>23.260000</td>\n",
       "    </tr>\n",
       "    <tr>\n",
       "      <th>75%</th>\n",
       "      <td>307499.25000</td>\n",
       "      <td>207528.000000</td>\n",
       "      <td>74914.500000</td>\n",
       "      <td>3746.250000</td>\n",
       "      <td>37731.000000</td>\n",
       "      <td>65.000000</td>\n",
       "      <td>1748.000000</td>\n",
       "      <td>718295.250000</td>\n",
       "      <td>403009.000000</td>\n",
       "      <td>61.265000</td>\n",
       "    </tr>\n",
       "    <tr>\n",
       "      <th>max</th>\n",
       "      <td>309999.00000</td>\n",
       "      <td>209999.000000</td>\n",
       "      <td>99993.000000</td>\n",
       "      <td>7046.296441</td>\n",
       "      <td>49998.000000</td>\n",
       "      <td>79.000000</td>\n",
       "      <td>1999.000000</td>\n",
       "      <td>995836.000000</td>\n",
       "      <td>499568.000000</td>\n",
       "      <td>98.880000</td>\n",
       "    </tr>\n",
       "  </tbody>\n",
       "</table>\n",
       "</div>"
      ],
      "text/plain": [
       "       Transaction_ID    Customer_ID  Total_Balance  Transaction_Amount  \\\n",
       "count     10000.00000   13665.000000   10000.000000        10000.000000   \n",
       "mean     304999.50000  205016.749433   50221.505800         2542.708056   \n",
       "std        2886.89568    2892.132240   28540.392011         1432.677420   \n",
       "min      300000.00000  200000.000000    1003.000000           51.613952   \n",
       "25%      302499.75000  202512.000000   25132.000000         1310.000000   \n",
       "50%      304999.50000  205029.000000   50326.000000         2538.500000   \n",
       "75%      307499.25000  207528.000000   74914.500000         3746.250000   \n",
       "max      309999.00000  209999.000000   99993.000000         7046.296441   \n",
       "\n",
       "       Investment_Amount           Age     Branch_ID   Firm_Revenue  \\\n",
       "count       10000.000000  12982.000000  13665.000000     516.000000   \n",
       "mean        25550.248400     48.899399   1497.923235  475000.562016   \n",
       "std         14108.052078     18.012413    289.650966  268171.147271   \n",
       "min          1001.000000     18.000000   1000.000000   51903.000000   \n",
       "25%         13381.000000     33.000000   1244.000000  236731.750000   \n",
       "50%         25708.500000     49.000000   1499.000000  462175.500000   \n",
       "75%         37731.000000     65.000000   1748.000000  718295.250000   \n",
       "max         49998.000000     79.000000   1999.000000  995836.000000   \n",
       "\n",
       "            Expenses  Profit_Margin  \n",
       "count     551.000000     551.000000  \n",
       "mean   265863.210526      23.168657  \n",
       "std    143904.068760      43.021987  \n",
       "min     20654.000000     -49.500000  \n",
       "25%    140565.000000     -13.275000  \n",
       "50%    266335.000000      23.260000  \n",
       "75%    403009.000000      61.265000  \n",
       "max    499568.000000      98.880000  "
      ]
     },
     "execution_count": 26,
     "metadata": {},
     "output_type": "execute_result"
    }
   ],
   "source": [
    "df.describe()"
   ]
  },
  {
   "cell_type": "code",
   "execution_count": 27,
   "id": "e1d6c25f",
   "metadata": {},
   "outputs": [
    {
     "data": {
      "text/plain": [
       "Transaction_ID        10000\n",
       "Customer_ID           10000\n",
       "Account_Type              3\n",
       "Total_Balance          9517\n",
       "Transaction_Amount     4657\n",
       "Investment_Amount      9029\n",
       "Investment_Type           3\n",
       "Transaction_Date       1096\n",
       "Age                      62\n",
       "Customer_Type             3\n",
       "City                      6\n",
       "Region                    4\n",
       "Bank_Name                 1\n",
       "Branch_ID              1000\n",
       "Firm_Revenue            311\n",
       "Expenses                329\n",
       "Profit_Margin           327\n",
       "dtype: int64"
      ]
     },
     "execution_count": 27,
     "metadata": {},
     "output_type": "execute_result"
    }
   ],
   "source": [
    "df.nunique()"
   ]
  },
  {
   "cell_type": "markdown",
   "id": "146135a8",
   "metadata": {},
   "source": [
    "## Nettoyage des données"
   ]
  },
  {
   "cell_type": "code",
   "execution_count": 28,
   "id": "52c0d0e1",
   "metadata": {},
   "outputs": [
    {
     "data": {
      "text/plain": [
       "Transaction_ID         3665\n",
       "Customer_ID               0\n",
       "Account_Type           3665\n",
       "Total_Balance          3665\n",
       "Transaction_Amount     3665\n",
       "Investment_Amount      3665\n",
       "Investment_Type        3665\n",
       "Transaction_Date       3665\n",
       "Age                     683\n",
       "Customer_Type           683\n",
       "City                    669\n",
       "Region                    0\n",
       "Bank_Name                 0\n",
       "Branch_ID                 0\n",
       "Firm_Revenue          13149\n",
       "Expenses              13114\n",
       "Profit_Margin         13114\n",
       "dtype: int64"
      ]
     },
     "execution_count": 28,
     "metadata": {},
     "output_type": "execute_result"
    }
   ],
   "source": [
    "# Vérification des valeurs manquantes\n",
    "df.isnull().sum()"
   ]
  },
  {
   "cell_type": "code",
   "execution_count": null,
   "id": "0c24af53",
   "metadata": {},
   "outputs": [],
   "source": [
    "missing_values = df.isnull().sum()\n",
    "percentage_missing_values = (missing_values / len(df)) * 100\n",
    "print(percentage_missing_values)"
   ]
  },
  {
   "cell_type": "code",
   "execution_count": null,
   "id": "8fb6a713",
   "metadata": {},
   "outputs": [],
   "source": [
    "total_missing_values = df.isnull().sum().sum()\n",
    "print(total_missing_values)"
   ]
  },
  {
   "cell_type": "code",
   "execution_count": null,
   "id": "e8e5ab1e",
   "metadata": {},
   "outputs": [],
   "source": [
    "total_cells = df.shape[0] * df.shape[1]\n",
    "print(total_cells)"
   ]
  },
  {
   "cell_type": "code",
   "execution_count": null,
   "id": "f1d3513e",
   "metadata": {},
   "outputs": [],
   "source": [
    "total_missing_percentage = (total_missing_values / total_cells) * 100\n",
    "print(total_missing_percentage)"
   ]
  },
  {
   "cell_type": "code",
   "execution_count": null,
   "id": "5b7ead52",
   "metadata": {},
   "outputs": [],
   "source": [
    "plt.figure(figsize=(10,4))\n",
    "sns.boxplot(data=df, x='Age')"
   ]
  },
  {
   "cell_type": "code",
   "execution_count": null,
   "id": "dabc8c36",
   "metadata": {},
   "outputs": [],
   "source": [
    "plt.figure(figsize=(10,4))\n",
    "sns.boxplot(data=df, x='Investment_Amount')"
   ]
  },
  {
   "cell_type": "code",
   "execution_count": null,
   "id": "73f53610",
   "metadata": {},
   "outputs": [],
   "source": [
    "plt.figure(figsize=(10,4))\n",
    "sns.boxplot(data=df, x='Customer_Type')"
   ]
  },
  {
   "cell_type": "code",
   "execution_count": null,
   "id": "9ff3bd80",
   "metadata": {},
   "outputs": [],
   "source": [
    "# Création d'une copie pour réaliser l'affectation de la moyenne\n",
    "df_imputed_mean = df.copy()"
   ]
  },
  {
   "cell_type": "code",
   "execution_count": null,
   "id": "26cfcd5c",
   "metadata": {},
   "outputs": [],
   "source": [
    "df_imputed_mean['Age'].fillna(df_imputed_mean['Age'].mean(), inplace=True)"
   ]
  },
  {
   "cell_type": "code",
   "execution_count": null,
   "id": "826cdd11",
   "metadata": {},
   "outputs": [],
   "source": [
    "df = df_imputed_mean.copy()"
   ]
  },
  {
   "cell_type": "code",
   "execution_count": null,
   "id": "3fdc5aa6",
   "metadata": {},
   "outputs": [
    {
     "data": {
      "text/plain": [
       "0        False\n",
       "1        False\n",
       "2        False\n",
       "3        False\n",
       "4        False\n",
       "         ...  \n",
       "13660    False\n",
       "13661    False\n",
       "13662    False\n",
       "13663    False\n",
       "13664    False\n",
       "Length: 13665, dtype: bool"
      ]
     },
     "execution_count": 30,
     "metadata": {},
     "output_type": "execute_result"
    }
   ],
   "source": [
    "# Vérification des doublons\n",
    "df.duplicated()\n",
    "\n",
    "df.drop_duplicates(inplace=True)\n",
    "print()"
   ]
  },
  {
   "cell_type": "code",
   "execution_count": null,
   "id": "10c2f7ac",
   "metadata": {},
   "outputs": [],
   "source": [
    "corr = df.corr()\n",
    "plt.figure(figsize=(10,8))\n",
    "sns.heatmap(corr, annot=True, fmt=\".2f\", cmap=\"coolwarm\")"
   ]
  },
  {
   "cell_type": "code",
   "execution_count": 34,
   "id": "a4dbda79",
   "metadata": {},
   "outputs": [
    {
     "name": "stdout",
     "output_type": "stream",
     "text": [
      "<class 'pandas.core.frame.DataFrame'>\n",
      "RangeIndex: 13665 entries, 0 to 13664\n",
      "Columns: 1119 entries, Transaction_ID to Region_West\n",
      "dtypes: bool(1109), float64(8), int64(2)\n",
      "memory usage: 15.5 MB\n"
     ]
    }
   ],
   "source": [
    "\n",
    "# Encodage des variables catégorielles\n",
    "df_encoded = pd.get_dummies(df, drop_first=True)\n",
    "df_encoded.info()\n",
    "#Le nettoyage garantit la qualité du modèle. L’encodage permet une exploitation optimale des variables qualitatives sans introduire de redondance dans l'entrainement et les rendre compatibles avec les algorithmes ML"
   ]
  },
  {
   "cell_type": "code",
   "execution_count": 35,
   "id": "cf8b3aea",
   "metadata": {},
   "outputs": [
    {
     "name": "stdout",
     "output_type": "stream",
     "text": [
      "['Transaction_ID', 'Customer_ID', 'Total_Balance', 'Transaction_Amount', 'Investment_Amount', 'Age', 'Branch_ID', 'Firm_Revenue', 'Expenses', 'Profit_Margin', 'Account_Type_Current', 'Account_Type_Savings', 'Investment_Type_Mutual Fund', 'Investment_Type_Recurring Deposit', 'Transaction_Date_2022-03-22', 'Transaction_Date_2022-03-23', 'Transaction_Date_2022-03-24', 'Transaction_Date_2022-03-25', 'Transaction_Date_2022-03-26', 'Transaction_Date_2022-03-27', 'Transaction_Date_2022-03-28', 'Transaction_Date_2022-03-29', 'Transaction_Date_2022-03-30', 'Transaction_Date_2022-03-31', 'Transaction_Date_2022-04-01', 'Transaction_Date_2022-04-02', 'Transaction_Date_2022-04-03', 'Transaction_Date_2022-04-04', 'Transaction_Date_2022-04-05', 'Transaction_Date_2022-04-06', 'Transaction_Date_2022-04-07', 'Transaction_Date_2022-04-08', 'Transaction_Date_2022-04-09', 'Transaction_Date_2022-04-10', 'Transaction_Date_2022-04-11', 'Transaction_Date_2022-04-12', 'Transaction_Date_2022-04-13', 'Transaction_Date_2022-04-14', 'Transaction_Date_2022-04-15', 'Transaction_Date_2022-04-16', 'Transaction_Date_2022-04-17', 'Transaction_Date_2022-04-18', 'Transaction_Date_2022-04-19', 'Transaction_Date_2022-04-20', 'Transaction_Date_2022-04-21', 'Transaction_Date_2022-04-22', 'Transaction_Date_2022-04-23', 'Transaction_Date_2022-04-24', 'Transaction_Date_2022-04-25', 'Transaction_Date_2022-04-26', 'Transaction_Date_2022-04-27', 'Transaction_Date_2022-04-28', 'Transaction_Date_2022-04-29', 'Transaction_Date_2022-04-30', 'Transaction_Date_2022-05-01', 'Transaction_Date_2022-05-02', 'Transaction_Date_2022-05-03', 'Transaction_Date_2022-05-04', 'Transaction_Date_2022-05-05', 'Transaction_Date_2022-05-06', 'Transaction_Date_2022-05-07', 'Transaction_Date_2022-05-08', 'Transaction_Date_2022-05-09', 'Transaction_Date_2022-05-10', 'Transaction_Date_2022-05-11', 'Transaction_Date_2022-05-12', 'Transaction_Date_2022-05-13', 'Transaction_Date_2022-05-14', 'Transaction_Date_2022-05-15', 'Transaction_Date_2022-05-16', 'Transaction_Date_2022-05-17', 'Transaction_Date_2022-05-18', 'Transaction_Date_2022-05-19', 'Transaction_Date_2022-05-20', 'Transaction_Date_2022-05-21', 'Transaction_Date_2022-05-22', 'Transaction_Date_2022-05-23', 'Transaction_Date_2022-05-24', 'Transaction_Date_2022-05-25', 'Transaction_Date_2022-05-26', 'Transaction_Date_2022-05-27', 'Transaction_Date_2022-05-28', 'Transaction_Date_2022-05-29', 'Transaction_Date_2022-05-30', 'Transaction_Date_2022-05-31', 'Transaction_Date_2022-06-01', 'Transaction_Date_2022-06-02', 'Transaction_Date_2022-06-03', 'Transaction_Date_2022-06-04', 'Transaction_Date_2022-06-05', 'Transaction_Date_2022-06-06', 'Transaction_Date_2022-06-07', 'Transaction_Date_2022-06-08', 'Transaction_Date_2022-06-09', 'Transaction_Date_2022-06-10', 'Transaction_Date_2022-06-11', 'Transaction_Date_2022-06-12', 'Transaction_Date_2022-06-13', 'Transaction_Date_2022-06-14', 'Transaction_Date_2022-06-15', 'Transaction_Date_2022-06-16', 'Transaction_Date_2022-06-17', 'Transaction_Date_2022-06-18', 'Transaction_Date_2022-06-19', 'Transaction_Date_2022-06-20', 'Transaction_Date_2022-06-21', 'Transaction_Date_2022-06-22', 'Transaction_Date_2022-06-23', 'Transaction_Date_2022-06-24', 'Transaction_Date_2022-06-25', 'Transaction_Date_2022-06-26', 'Transaction_Date_2022-06-27', 'Transaction_Date_2022-06-28', 'Transaction_Date_2022-06-29', 'Transaction_Date_2022-06-30', 'Transaction_Date_2022-07-01', 'Transaction_Date_2022-07-02', 'Transaction_Date_2022-07-03', 'Transaction_Date_2022-07-04', 'Transaction_Date_2022-07-05', 'Transaction_Date_2022-07-06', 'Transaction_Date_2022-07-07', 'Transaction_Date_2022-07-08', 'Transaction_Date_2022-07-09', 'Transaction_Date_2022-07-10', 'Transaction_Date_2022-07-11', 'Transaction_Date_2022-07-12', 'Transaction_Date_2022-07-13', 'Transaction_Date_2022-07-14', 'Transaction_Date_2022-07-15', 'Transaction_Date_2022-07-16', 'Transaction_Date_2022-07-17', 'Transaction_Date_2022-07-18', 'Transaction_Date_2022-07-19', 'Transaction_Date_2022-07-20', 'Transaction_Date_2022-07-21', 'Transaction_Date_2022-07-22', 'Transaction_Date_2022-07-23', 'Transaction_Date_2022-07-24', 'Transaction_Date_2022-07-25', 'Transaction_Date_2022-07-26', 'Transaction_Date_2022-07-27', 'Transaction_Date_2022-07-28', 'Transaction_Date_2022-07-29', 'Transaction_Date_2022-07-30', 'Transaction_Date_2022-07-31', 'Transaction_Date_2022-08-01', 'Transaction_Date_2022-08-02', 'Transaction_Date_2022-08-03', 'Transaction_Date_2022-08-04', 'Transaction_Date_2022-08-05', 'Transaction_Date_2022-08-06', 'Transaction_Date_2022-08-07', 'Transaction_Date_2022-08-08', 'Transaction_Date_2022-08-09', 'Transaction_Date_2022-08-10', 'Transaction_Date_2022-08-11', 'Transaction_Date_2022-08-12', 'Transaction_Date_2022-08-13', 'Transaction_Date_2022-08-14', 'Transaction_Date_2022-08-15', 'Transaction_Date_2022-08-16', 'Transaction_Date_2022-08-17', 'Transaction_Date_2022-08-18', 'Transaction_Date_2022-08-19', 'Transaction_Date_2022-08-20', 'Transaction_Date_2022-08-21', 'Transaction_Date_2022-08-22', 'Transaction_Date_2022-08-23', 'Transaction_Date_2022-08-24', 'Transaction_Date_2022-08-25', 'Transaction_Date_2022-08-26', 'Transaction_Date_2022-08-27', 'Transaction_Date_2022-08-28', 'Transaction_Date_2022-08-29', 'Transaction_Date_2022-08-30', 'Transaction_Date_2022-08-31', 'Transaction_Date_2022-09-01', 'Transaction_Date_2022-09-02', 'Transaction_Date_2022-09-03', 'Transaction_Date_2022-09-04', 'Transaction_Date_2022-09-05', 'Transaction_Date_2022-09-06', 'Transaction_Date_2022-09-07', 'Transaction_Date_2022-09-08', 'Transaction_Date_2022-09-09', 'Transaction_Date_2022-09-10', 'Transaction_Date_2022-09-11', 'Transaction_Date_2022-09-12', 'Transaction_Date_2022-09-13', 'Transaction_Date_2022-09-14', 'Transaction_Date_2022-09-15', 'Transaction_Date_2022-09-16', 'Transaction_Date_2022-09-17', 'Transaction_Date_2022-09-18', 'Transaction_Date_2022-09-19', 'Transaction_Date_2022-09-20', 'Transaction_Date_2022-09-21', 'Transaction_Date_2022-09-22', 'Transaction_Date_2022-09-23', 'Transaction_Date_2022-09-24', 'Transaction_Date_2022-09-25', 'Transaction_Date_2022-09-26', 'Transaction_Date_2022-09-27', 'Transaction_Date_2022-09-28', 'Transaction_Date_2022-09-29', 'Transaction_Date_2022-09-30', 'Transaction_Date_2022-10-01', 'Transaction_Date_2022-10-02', 'Transaction_Date_2022-10-03', 'Transaction_Date_2022-10-04', 'Transaction_Date_2022-10-05', 'Transaction_Date_2022-10-06', 'Transaction_Date_2022-10-07', 'Transaction_Date_2022-10-08', 'Transaction_Date_2022-10-09', 'Transaction_Date_2022-10-10', 'Transaction_Date_2022-10-11', 'Transaction_Date_2022-10-12', 'Transaction_Date_2022-10-13', 'Transaction_Date_2022-10-14', 'Transaction_Date_2022-10-15', 'Transaction_Date_2022-10-16', 'Transaction_Date_2022-10-17', 'Transaction_Date_2022-10-18', 'Transaction_Date_2022-10-19', 'Transaction_Date_2022-10-20', 'Transaction_Date_2022-10-21', 'Transaction_Date_2022-10-22', 'Transaction_Date_2022-10-23', 'Transaction_Date_2022-10-24', 'Transaction_Date_2022-10-25', 'Transaction_Date_2022-10-26', 'Transaction_Date_2022-10-27', 'Transaction_Date_2022-10-28', 'Transaction_Date_2022-10-29', 'Transaction_Date_2022-10-30', 'Transaction_Date_2022-10-31', 'Transaction_Date_2022-11-01', 'Transaction_Date_2022-11-02', 'Transaction_Date_2022-11-03', 'Transaction_Date_2022-11-04', 'Transaction_Date_2022-11-05', 'Transaction_Date_2022-11-06', 'Transaction_Date_2022-11-07', 'Transaction_Date_2022-11-08', 'Transaction_Date_2022-11-09', 'Transaction_Date_2022-11-10', 'Transaction_Date_2022-11-11', 'Transaction_Date_2022-11-12', 'Transaction_Date_2022-11-13', 'Transaction_Date_2022-11-14', 'Transaction_Date_2022-11-15', 'Transaction_Date_2022-11-16', 'Transaction_Date_2022-11-17', 'Transaction_Date_2022-11-18', 'Transaction_Date_2022-11-19', 'Transaction_Date_2022-11-20', 'Transaction_Date_2022-11-21', 'Transaction_Date_2022-11-22', 'Transaction_Date_2022-11-23', 'Transaction_Date_2022-11-24', 'Transaction_Date_2022-11-25', 'Transaction_Date_2022-11-26', 'Transaction_Date_2022-11-27', 'Transaction_Date_2022-11-28', 'Transaction_Date_2022-11-29', 'Transaction_Date_2022-11-30', 'Transaction_Date_2022-12-01', 'Transaction_Date_2022-12-02', 'Transaction_Date_2022-12-03', 'Transaction_Date_2022-12-04', 'Transaction_Date_2022-12-05', 'Transaction_Date_2022-12-06', 'Transaction_Date_2022-12-07', 'Transaction_Date_2022-12-08', 'Transaction_Date_2022-12-09', 'Transaction_Date_2022-12-10', 'Transaction_Date_2022-12-11', 'Transaction_Date_2022-12-12', 'Transaction_Date_2022-12-13', 'Transaction_Date_2022-12-14', 'Transaction_Date_2022-12-15', 'Transaction_Date_2022-12-16', 'Transaction_Date_2022-12-17', 'Transaction_Date_2022-12-18', 'Transaction_Date_2022-12-19', 'Transaction_Date_2022-12-20', 'Transaction_Date_2022-12-21', 'Transaction_Date_2022-12-22', 'Transaction_Date_2022-12-23', 'Transaction_Date_2022-12-24', 'Transaction_Date_2022-12-25', 'Transaction_Date_2022-12-26', 'Transaction_Date_2022-12-27', 'Transaction_Date_2022-12-28', 'Transaction_Date_2022-12-29', 'Transaction_Date_2022-12-30', 'Transaction_Date_2022-12-31', 'Transaction_Date_2023-01-01', 'Transaction_Date_2023-01-02', 'Transaction_Date_2023-01-03', 'Transaction_Date_2023-01-04', 'Transaction_Date_2023-01-05', 'Transaction_Date_2023-01-06', 'Transaction_Date_2023-01-07', 'Transaction_Date_2023-01-08', 'Transaction_Date_2023-01-09', 'Transaction_Date_2023-01-10', 'Transaction_Date_2023-01-11', 'Transaction_Date_2023-01-12', 'Transaction_Date_2023-01-13', 'Transaction_Date_2023-01-14', 'Transaction_Date_2023-01-15', 'Transaction_Date_2023-01-16', 'Transaction_Date_2023-01-17', 'Transaction_Date_2023-01-18', 'Transaction_Date_2023-01-19', 'Transaction_Date_2023-01-20', 'Transaction_Date_2023-01-21', 'Transaction_Date_2023-01-22', 'Transaction_Date_2023-01-23', 'Transaction_Date_2023-01-24', 'Transaction_Date_2023-01-25', 'Transaction_Date_2023-01-26', 'Transaction_Date_2023-01-27', 'Transaction_Date_2023-01-28', 'Transaction_Date_2023-01-29', 'Transaction_Date_2023-01-30', 'Transaction_Date_2023-01-31', 'Transaction_Date_2023-02-01', 'Transaction_Date_2023-02-02', 'Transaction_Date_2023-02-03', 'Transaction_Date_2023-02-04', 'Transaction_Date_2023-02-05', 'Transaction_Date_2023-02-06', 'Transaction_Date_2023-02-07', 'Transaction_Date_2023-02-08', 'Transaction_Date_2023-02-09', 'Transaction_Date_2023-02-10', 'Transaction_Date_2023-02-11', 'Transaction_Date_2023-02-12', 'Transaction_Date_2023-02-13', 'Transaction_Date_2023-02-14', 'Transaction_Date_2023-02-15', 'Transaction_Date_2023-02-16', 'Transaction_Date_2023-02-17', 'Transaction_Date_2023-02-18', 'Transaction_Date_2023-02-19', 'Transaction_Date_2023-02-20', 'Transaction_Date_2023-02-21', 'Transaction_Date_2023-02-22', 'Transaction_Date_2023-02-23', 'Transaction_Date_2023-02-24', 'Transaction_Date_2023-02-25', 'Transaction_Date_2023-02-26', 'Transaction_Date_2023-02-27', 'Transaction_Date_2023-02-28', 'Transaction_Date_2023-03-01', 'Transaction_Date_2023-03-02', 'Transaction_Date_2023-03-03', 'Transaction_Date_2023-03-04', 'Transaction_Date_2023-03-05', 'Transaction_Date_2023-03-06', 'Transaction_Date_2023-03-07', 'Transaction_Date_2023-03-08', 'Transaction_Date_2023-03-09', 'Transaction_Date_2023-03-10', 'Transaction_Date_2023-03-11', 'Transaction_Date_2023-03-12', 'Transaction_Date_2023-03-13', 'Transaction_Date_2023-03-14', 'Transaction_Date_2023-03-15', 'Transaction_Date_2023-03-16', 'Transaction_Date_2023-03-17', 'Transaction_Date_2023-03-18', 'Transaction_Date_2023-03-19', 'Transaction_Date_2023-03-20', 'Transaction_Date_2023-03-21', 'Transaction_Date_2023-03-22', 'Transaction_Date_2023-03-23', 'Transaction_Date_2023-03-24', 'Transaction_Date_2023-03-25', 'Transaction_Date_2023-03-26', 'Transaction_Date_2023-03-27', 'Transaction_Date_2023-03-28', 'Transaction_Date_2023-03-29', 'Transaction_Date_2023-03-30', 'Transaction_Date_2023-03-31', 'Transaction_Date_2023-04-01', 'Transaction_Date_2023-04-02', 'Transaction_Date_2023-04-03', 'Transaction_Date_2023-04-04', 'Transaction_Date_2023-04-05', 'Transaction_Date_2023-04-06', 'Transaction_Date_2023-04-07', 'Transaction_Date_2023-04-08', 'Transaction_Date_2023-04-09', 'Transaction_Date_2023-04-10', 'Transaction_Date_2023-04-11', 'Transaction_Date_2023-04-12', 'Transaction_Date_2023-04-13', 'Transaction_Date_2023-04-14', 'Transaction_Date_2023-04-15', 'Transaction_Date_2023-04-16', 'Transaction_Date_2023-04-17', 'Transaction_Date_2023-04-18', 'Transaction_Date_2023-04-19', 'Transaction_Date_2023-04-20', 'Transaction_Date_2023-04-21', 'Transaction_Date_2023-04-22', 'Transaction_Date_2023-04-23', 'Transaction_Date_2023-04-24', 'Transaction_Date_2023-04-25', 'Transaction_Date_2023-04-26', 'Transaction_Date_2023-04-27', 'Transaction_Date_2023-04-28', 'Transaction_Date_2023-04-29', 'Transaction_Date_2023-04-30', 'Transaction_Date_2023-05-01', 'Transaction_Date_2023-05-02', 'Transaction_Date_2023-05-03', 'Transaction_Date_2023-05-04', 'Transaction_Date_2023-05-05', 'Transaction_Date_2023-05-06', 'Transaction_Date_2023-05-07', 'Transaction_Date_2023-05-08', 'Transaction_Date_2023-05-09', 'Transaction_Date_2023-05-10', 'Transaction_Date_2023-05-11', 'Transaction_Date_2023-05-12', 'Transaction_Date_2023-05-13', 'Transaction_Date_2023-05-14', 'Transaction_Date_2023-05-15', 'Transaction_Date_2023-05-16', 'Transaction_Date_2023-05-17', 'Transaction_Date_2023-05-18', 'Transaction_Date_2023-05-19', 'Transaction_Date_2023-05-20', 'Transaction_Date_2023-05-21', 'Transaction_Date_2023-05-22', 'Transaction_Date_2023-05-23', 'Transaction_Date_2023-05-24', 'Transaction_Date_2023-05-25', 'Transaction_Date_2023-05-26', 'Transaction_Date_2023-05-27', 'Transaction_Date_2023-05-28', 'Transaction_Date_2023-05-29', 'Transaction_Date_2023-05-30', 'Transaction_Date_2023-05-31', 'Transaction_Date_2023-06-01', 'Transaction_Date_2023-06-02', 'Transaction_Date_2023-06-03', 'Transaction_Date_2023-06-04', 'Transaction_Date_2023-06-05', 'Transaction_Date_2023-06-06', 'Transaction_Date_2023-06-07', 'Transaction_Date_2023-06-08', 'Transaction_Date_2023-06-09', 'Transaction_Date_2023-06-10', 'Transaction_Date_2023-06-11', 'Transaction_Date_2023-06-12', 'Transaction_Date_2023-06-13', 'Transaction_Date_2023-06-14', 'Transaction_Date_2023-06-15', 'Transaction_Date_2023-06-16', 'Transaction_Date_2023-06-17', 'Transaction_Date_2023-06-18', 'Transaction_Date_2023-06-19', 'Transaction_Date_2023-06-20', 'Transaction_Date_2023-06-21', 'Transaction_Date_2023-06-22', 'Transaction_Date_2023-06-23', 'Transaction_Date_2023-06-24', 'Transaction_Date_2023-06-25', 'Transaction_Date_2023-06-26', 'Transaction_Date_2023-06-27', 'Transaction_Date_2023-06-28', 'Transaction_Date_2023-06-29', 'Transaction_Date_2023-06-30', 'Transaction_Date_2023-07-01', 'Transaction_Date_2023-07-02', 'Transaction_Date_2023-07-03', 'Transaction_Date_2023-07-04', 'Transaction_Date_2023-07-05', 'Transaction_Date_2023-07-06', 'Transaction_Date_2023-07-07', 'Transaction_Date_2023-07-08', 'Transaction_Date_2023-07-09', 'Transaction_Date_2023-07-10', 'Transaction_Date_2023-07-11', 'Transaction_Date_2023-07-12', 'Transaction_Date_2023-07-13', 'Transaction_Date_2023-07-14', 'Transaction_Date_2023-07-15', 'Transaction_Date_2023-07-16', 'Transaction_Date_2023-07-17', 'Transaction_Date_2023-07-18', 'Transaction_Date_2023-07-19', 'Transaction_Date_2023-07-20', 'Transaction_Date_2023-07-21', 'Transaction_Date_2023-07-22', 'Transaction_Date_2023-07-23', 'Transaction_Date_2023-07-24', 'Transaction_Date_2023-07-25', 'Transaction_Date_2023-07-26', 'Transaction_Date_2023-07-27', 'Transaction_Date_2023-07-28', 'Transaction_Date_2023-07-29', 'Transaction_Date_2023-07-30', 'Transaction_Date_2023-07-31', 'Transaction_Date_2023-08-01', 'Transaction_Date_2023-08-02', 'Transaction_Date_2023-08-03', 'Transaction_Date_2023-08-04', 'Transaction_Date_2023-08-05', 'Transaction_Date_2023-08-06', 'Transaction_Date_2023-08-07', 'Transaction_Date_2023-08-08', 'Transaction_Date_2023-08-09', 'Transaction_Date_2023-08-10', 'Transaction_Date_2023-08-11', 'Transaction_Date_2023-08-12', 'Transaction_Date_2023-08-13', 'Transaction_Date_2023-08-14', 'Transaction_Date_2023-08-15', 'Transaction_Date_2023-08-16', 'Transaction_Date_2023-08-17', 'Transaction_Date_2023-08-18', 'Transaction_Date_2023-08-19', 'Transaction_Date_2023-08-20', 'Transaction_Date_2023-08-21', 'Transaction_Date_2023-08-22', 'Transaction_Date_2023-08-23', 'Transaction_Date_2023-08-24', 'Transaction_Date_2023-08-25', 'Transaction_Date_2023-08-26', 'Transaction_Date_2023-08-27', 'Transaction_Date_2023-08-28', 'Transaction_Date_2023-08-29', 'Transaction_Date_2023-08-30', 'Transaction_Date_2023-08-31', 'Transaction_Date_2023-09-01', 'Transaction_Date_2023-09-02', 'Transaction_Date_2023-09-03', 'Transaction_Date_2023-09-04', 'Transaction_Date_2023-09-05', 'Transaction_Date_2023-09-06', 'Transaction_Date_2023-09-07', 'Transaction_Date_2023-09-08', 'Transaction_Date_2023-09-09', 'Transaction_Date_2023-09-10', 'Transaction_Date_2023-09-11', 'Transaction_Date_2023-09-12', 'Transaction_Date_2023-09-13', 'Transaction_Date_2023-09-14', 'Transaction_Date_2023-09-15', 'Transaction_Date_2023-09-16', 'Transaction_Date_2023-09-17', 'Transaction_Date_2023-09-18', 'Transaction_Date_2023-09-19', 'Transaction_Date_2023-09-20', 'Transaction_Date_2023-09-21', 'Transaction_Date_2023-09-22', 'Transaction_Date_2023-09-23', 'Transaction_Date_2023-09-24', 'Transaction_Date_2023-09-25', 'Transaction_Date_2023-09-26', 'Transaction_Date_2023-09-27', 'Transaction_Date_2023-09-28', 'Transaction_Date_2023-09-29', 'Transaction_Date_2023-09-30', 'Transaction_Date_2023-10-01', 'Transaction_Date_2023-10-02', 'Transaction_Date_2023-10-03', 'Transaction_Date_2023-10-04', 'Transaction_Date_2023-10-05', 'Transaction_Date_2023-10-06', 'Transaction_Date_2023-10-07', 'Transaction_Date_2023-10-08', 'Transaction_Date_2023-10-09', 'Transaction_Date_2023-10-10', 'Transaction_Date_2023-10-11', 'Transaction_Date_2023-10-12', 'Transaction_Date_2023-10-13', 'Transaction_Date_2023-10-14', 'Transaction_Date_2023-10-15', 'Transaction_Date_2023-10-16', 'Transaction_Date_2023-10-17', 'Transaction_Date_2023-10-18', 'Transaction_Date_2023-10-19', 'Transaction_Date_2023-10-20', 'Transaction_Date_2023-10-21', 'Transaction_Date_2023-10-22', 'Transaction_Date_2023-10-23', 'Transaction_Date_2023-10-24', 'Transaction_Date_2023-10-25', 'Transaction_Date_2023-10-26', 'Transaction_Date_2023-10-27', 'Transaction_Date_2023-10-28', 'Transaction_Date_2023-10-29', 'Transaction_Date_2023-10-30', 'Transaction_Date_2023-10-31', 'Transaction_Date_2023-11-01', 'Transaction_Date_2023-11-02', 'Transaction_Date_2023-11-03', 'Transaction_Date_2023-11-04', 'Transaction_Date_2023-11-05', 'Transaction_Date_2023-11-06', 'Transaction_Date_2023-11-07', 'Transaction_Date_2023-11-08', 'Transaction_Date_2023-11-09', 'Transaction_Date_2023-11-10', 'Transaction_Date_2023-11-11', 'Transaction_Date_2023-11-12', 'Transaction_Date_2023-11-13', 'Transaction_Date_2023-11-14', 'Transaction_Date_2023-11-15', 'Transaction_Date_2023-11-16', 'Transaction_Date_2023-11-17', 'Transaction_Date_2023-11-18', 'Transaction_Date_2023-11-19', 'Transaction_Date_2023-11-20', 'Transaction_Date_2023-11-21', 'Transaction_Date_2023-11-22', 'Transaction_Date_2023-11-23', 'Transaction_Date_2023-11-24', 'Transaction_Date_2023-11-25', 'Transaction_Date_2023-11-26', 'Transaction_Date_2023-11-27', 'Transaction_Date_2023-11-28', 'Transaction_Date_2023-11-29', 'Transaction_Date_2023-11-30', 'Transaction_Date_2023-12-01', 'Transaction_Date_2023-12-02', 'Transaction_Date_2023-12-03', 'Transaction_Date_2023-12-04', 'Transaction_Date_2023-12-05', 'Transaction_Date_2023-12-06', 'Transaction_Date_2023-12-07', 'Transaction_Date_2023-12-08', 'Transaction_Date_2023-12-09', 'Transaction_Date_2023-12-10', 'Transaction_Date_2023-12-11', 'Transaction_Date_2023-12-12', 'Transaction_Date_2023-12-13', 'Transaction_Date_2023-12-14', 'Transaction_Date_2023-12-15', 'Transaction_Date_2023-12-16', 'Transaction_Date_2023-12-17', 'Transaction_Date_2023-12-18', 'Transaction_Date_2023-12-19', 'Transaction_Date_2023-12-20', 'Transaction_Date_2023-12-21', 'Transaction_Date_2023-12-22', 'Transaction_Date_2023-12-23', 'Transaction_Date_2023-12-24', 'Transaction_Date_2023-12-25', 'Transaction_Date_2023-12-26', 'Transaction_Date_2023-12-27', 'Transaction_Date_2023-12-28', 'Transaction_Date_2023-12-29', 'Transaction_Date_2023-12-30', 'Transaction_Date_2023-12-31', 'Transaction_Date_2024-01-01', 'Transaction_Date_2024-01-02', 'Transaction_Date_2024-01-03', 'Transaction_Date_2024-01-04', 'Transaction_Date_2024-01-05', 'Transaction_Date_2024-01-06', 'Transaction_Date_2024-01-07', 'Transaction_Date_2024-01-08', 'Transaction_Date_2024-01-09', 'Transaction_Date_2024-01-10', 'Transaction_Date_2024-01-11', 'Transaction_Date_2024-01-12', 'Transaction_Date_2024-01-13', 'Transaction_Date_2024-01-14', 'Transaction_Date_2024-01-15', 'Transaction_Date_2024-01-16', 'Transaction_Date_2024-01-17', 'Transaction_Date_2024-01-18', 'Transaction_Date_2024-01-19', 'Transaction_Date_2024-01-20', 'Transaction_Date_2024-01-21', 'Transaction_Date_2024-01-22', 'Transaction_Date_2024-01-23', 'Transaction_Date_2024-01-24', 'Transaction_Date_2024-01-25', 'Transaction_Date_2024-01-26', 'Transaction_Date_2024-01-27', 'Transaction_Date_2024-01-28', 'Transaction_Date_2024-01-29', 'Transaction_Date_2024-01-30', 'Transaction_Date_2024-01-31', 'Transaction_Date_2024-02-01', 'Transaction_Date_2024-02-02', 'Transaction_Date_2024-02-03', 'Transaction_Date_2024-02-04', 'Transaction_Date_2024-02-05', 'Transaction_Date_2024-02-06', 'Transaction_Date_2024-02-07', 'Transaction_Date_2024-02-08', 'Transaction_Date_2024-02-09', 'Transaction_Date_2024-02-10', 'Transaction_Date_2024-02-11', 'Transaction_Date_2024-02-12', 'Transaction_Date_2024-02-13', 'Transaction_Date_2024-02-14', 'Transaction_Date_2024-02-15', 'Transaction_Date_2024-02-16', 'Transaction_Date_2024-02-17', 'Transaction_Date_2024-02-18', 'Transaction_Date_2024-02-19', 'Transaction_Date_2024-02-20', 'Transaction_Date_2024-02-21', 'Transaction_Date_2024-02-22', 'Transaction_Date_2024-02-23', 'Transaction_Date_2024-02-24', 'Transaction_Date_2024-02-25', 'Transaction_Date_2024-02-26', 'Transaction_Date_2024-02-27', 'Transaction_Date_2024-02-28', 'Transaction_Date_2024-02-29', 'Transaction_Date_2024-03-01', 'Transaction_Date_2024-03-02', 'Transaction_Date_2024-03-03', 'Transaction_Date_2024-03-04', 'Transaction_Date_2024-03-05', 'Transaction_Date_2024-03-06', 'Transaction_Date_2024-03-07', 'Transaction_Date_2024-03-08', 'Transaction_Date_2024-03-09', 'Transaction_Date_2024-03-10', 'Transaction_Date_2024-03-11', 'Transaction_Date_2024-03-12', 'Transaction_Date_2024-03-13', 'Transaction_Date_2024-03-14', 'Transaction_Date_2024-03-15', 'Transaction_Date_2024-03-16', 'Transaction_Date_2024-03-17', 'Transaction_Date_2024-03-18', 'Transaction_Date_2024-03-19', 'Transaction_Date_2024-03-20', 'Transaction_Date_2024-03-21', 'Transaction_Date_2024-03-22', 'Transaction_Date_2024-03-23', 'Transaction_Date_2024-03-24', 'Transaction_Date_2024-03-25', 'Transaction_Date_2024-03-26', 'Transaction_Date_2024-03-27', 'Transaction_Date_2024-03-28', 'Transaction_Date_2024-03-29', 'Transaction_Date_2024-03-30', 'Transaction_Date_2024-03-31', 'Transaction_Date_2024-04-01', 'Transaction_Date_2024-04-02', 'Transaction_Date_2024-04-03', 'Transaction_Date_2024-04-04', 'Transaction_Date_2024-04-05', 'Transaction_Date_2024-04-06', 'Transaction_Date_2024-04-07', 'Transaction_Date_2024-04-08', 'Transaction_Date_2024-04-09', 'Transaction_Date_2024-04-10', 'Transaction_Date_2024-04-11', 'Transaction_Date_2024-04-12', 'Transaction_Date_2024-04-13', 'Transaction_Date_2024-04-14', 'Transaction_Date_2024-04-15', 'Transaction_Date_2024-04-16', 'Transaction_Date_2024-04-17', 'Transaction_Date_2024-04-18', 'Transaction_Date_2024-04-19', 'Transaction_Date_2024-04-20', 'Transaction_Date_2024-04-21', 'Transaction_Date_2024-04-22', 'Transaction_Date_2024-04-23', 'Transaction_Date_2024-04-24', 'Transaction_Date_2024-04-25', 'Transaction_Date_2024-04-26', 'Transaction_Date_2024-04-27', 'Transaction_Date_2024-04-28', 'Transaction_Date_2024-04-29', 'Transaction_Date_2024-04-30', 'Transaction_Date_2024-05-01', 'Transaction_Date_2024-05-02', 'Transaction_Date_2024-05-03', 'Transaction_Date_2024-05-04', 'Transaction_Date_2024-05-05', 'Transaction_Date_2024-05-06', 'Transaction_Date_2024-05-07', 'Transaction_Date_2024-05-08', 'Transaction_Date_2024-05-09', 'Transaction_Date_2024-05-10', 'Transaction_Date_2024-05-11', 'Transaction_Date_2024-05-12', 'Transaction_Date_2024-05-13', 'Transaction_Date_2024-05-14', 'Transaction_Date_2024-05-15', 'Transaction_Date_2024-05-16', 'Transaction_Date_2024-05-17', 'Transaction_Date_2024-05-18', 'Transaction_Date_2024-05-19', 'Transaction_Date_2024-05-20', 'Transaction_Date_2024-05-21', 'Transaction_Date_2024-05-22', 'Transaction_Date_2024-05-23', 'Transaction_Date_2024-05-24', 'Transaction_Date_2024-05-25', 'Transaction_Date_2024-05-26', 'Transaction_Date_2024-05-27', 'Transaction_Date_2024-05-28', 'Transaction_Date_2024-05-29', 'Transaction_Date_2024-05-30', 'Transaction_Date_2024-05-31', 'Transaction_Date_2024-06-01', 'Transaction_Date_2024-06-02', 'Transaction_Date_2024-06-03', 'Transaction_Date_2024-06-04', 'Transaction_Date_2024-06-05', 'Transaction_Date_2024-06-06', 'Transaction_Date_2024-06-07', 'Transaction_Date_2024-06-08', 'Transaction_Date_2024-06-09', 'Transaction_Date_2024-06-10', 'Transaction_Date_2024-06-11', 'Transaction_Date_2024-06-12', 'Transaction_Date_2024-06-13', 'Transaction_Date_2024-06-14', 'Transaction_Date_2024-06-15', 'Transaction_Date_2024-06-16', 'Transaction_Date_2024-06-17', 'Transaction_Date_2024-06-18', 'Transaction_Date_2024-06-19', 'Transaction_Date_2024-06-20', 'Transaction_Date_2024-06-21', 'Transaction_Date_2024-06-22', 'Transaction_Date_2024-06-23', 'Transaction_Date_2024-06-24', 'Transaction_Date_2024-06-25', 'Transaction_Date_2024-06-26', 'Transaction_Date_2024-06-27', 'Transaction_Date_2024-06-28', 'Transaction_Date_2024-06-29', 'Transaction_Date_2024-06-30', 'Transaction_Date_2024-07-01', 'Transaction_Date_2024-07-02', 'Transaction_Date_2024-07-03', 'Transaction_Date_2024-07-04', 'Transaction_Date_2024-07-05', 'Transaction_Date_2024-07-06', 'Transaction_Date_2024-07-07', 'Transaction_Date_2024-07-08', 'Transaction_Date_2024-07-09', 'Transaction_Date_2024-07-10', 'Transaction_Date_2024-07-11', 'Transaction_Date_2024-07-12', 'Transaction_Date_2024-07-13', 'Transaction_Date_2024-07-14', 'Transaction_Date_2024-07-15', 'Transaction_Date_2024-07-16', 'Transaction_Date_2024-07-17', 'Transaction_Date_2024-07-18', 'Transaction_Date_2024-07-19', 'Transaction_Date_2024-07-20', 'Transaction_Date_2024-07-21', 'Transaction_Date_2024-07-22', 'Transaction_Date_2024-07-23', 'Transaction_Date_2024-07-24', 'Transaction_Date_2024-07-25', 'Transaction_Date_2024-07-26', 'Transaction_Date_2024-07-27', 'Transaction_Date_2024-07-28', 'Transaction_Date_2024-07-29', 'Transaction_Date_2024-07-30', 'Transaction_Date_2024-07-31', 'Transaction_Date_2024-08-01', 'Transaction_Date_2024-08-02', 'Transaction_Date_2024-08-03', 'Transaction_Date_2024-08-04', 'Transaction_Date_2024-08-05', 'Transaction_Date_2024-08-06', 'Transaction_Date_2024-08-07', 'Transaction_Date_2024-08-08', 'Transaction_Date_2024-08-09', 'Transaction_Date_2024-08-10', 'Transaction_Date_2024-08-11', 'Transaction_Date_2024-08-12', 'Transaction_Date_2024-08-13', 'Transaction_Date_2024-08-14', 'Transaction_Date_2024-08-15', 'Transaction_Date_2024-08-16', 'Transaction_Date_2024-08-17', 'Transaction_Date_2024-08-18', 'Transaction_Date_2024-08-19', 'Transaction_Date_2024-08-20', 'Transaction_Date_2024-08-21', 'Transaction_Date_2024-08-22', 'Transaction_Date_2024-08-23', 'Transaction_Date_2024-08-24', 'Transaction_Date_2024-08-25', 'Transaction_Date_2024-08-26', 'Transaction_Date_2024-08-27', 'Transaction_Date_2024-08-28', 'Transaction_Date_2024-08-29', 'Transaction_Date_2024-08-30', 'Transaction_Date_2024-08-31', 'Transaction_Date_2024-09-01', 'Transaction_Date_2024-09-02', 'Transaction_Date_2024-09-03', 'Transaction_Date_2024-09-04', 'Transaction_Date_2024-09-05', 'Transaction_Date_2024-09-06', 'Transaction_Date_2024-09-07', 'Transaction_Date_2024-09-08', 'Transaction_Date_2024-09-09', 'Transaction_Date_2024-09-10', 'Transaction_Date_2024-09-11', 'Transaction_Date_2024-09-12', 'Transaction_Date_2024-09-13', 'Transaction_Date_2024-09-14', 'Transaction_Date_2024-09-15', 'Transaction_Date_2024-09-16', 'Transaction_Date_2024-09-17', 'Transaction_Date_2024-09-18', 'Transaction_Date_2024-09-19', 'Transaction_Date_2024-09-20', 'Transaction_Date_2024-09-21', 'Transaction_Date_2024-09-22', 'Transaction_Date_2024-09-23', 'Transaction_Date_2024-09-24', 'Transaction_Date_2024-09-25', 'Transaction_Date_2024-09-26', 'Transaction_Date_2024-09-27', 'Transaction_Date_2024-09-28', 'Transaction_Date_2024-09-29', 'Transaction_Date_2024-09-30', 'Transaction_Date_2024-10-01', 'Transaction_Date_2024-10-02', 'Transaction_Date_2024-10-03', 'Transaction_Date_2024-10-04', 'Transaction_Date_2024-10-05', 'Transaction_Date_2024-10-06', 'Transaction_Date_2024-10-07', 'Transaction_Date_2024-10-08', 'Transaction_Date_2024-10-09', 'Transaction_Date_2024-10-10', 'Transaction_Date_2024-10-11', 'Transaction_Date_2024-10-12', 'Transaction_Date_2024-10-13', 'Transaction_Date_2024-10-14', 'Transaction_Date_2024-10-15', 'Transaction_Date_2024-10-16', 'Transaction_Date_2024-10-17', 'Transaction_Date_2024-10-18', 'Transaction_Date_2024-10-19', 'Transaction_Date_2024-10-20', 'Transaction_Date_2024-10-21', 'Transaction_Date_2024-10-22', 'Transaction_Date_2024-10-23', 'Transaction_Date_2024-10-24', 'Transaction_Date_2024-10-25', 'Transaction_Date_2024-10-26', 'Transaction_Date_2024-10-27', 'Transaction_Date_2024-10-28', 'Transaction_Date_2024-10-29', 'Transaction_Date_2024-10-30', 'Transaction_Date_2024-10-31', 'Transaction_Date_2024-11-01', 'Transaction_Date_2024-11-02', 'Transaction_Date_2024-11-03', 'Transaction_Date_2024-11-04', 'Transaction_Date_2024-11-05', 'Transaction_Date_2024-11-06', 'Transaction_Date_2024-11-07', 'Transaction_Date_2024-11-08', 'Transaction_Date_2024-11-09', 'Transaction_Date_2024-11-10', 'Transaction_Date_2024-11-11', 'Transaction_Date_2024-11-12', 'Transaction_Date_2024-11-13', 'Transaction_Date_2024-11-14', 'Transaction_Date_2024-11-15', 'Transaction_Date_2024-11-16', 'Transaction_Date_2024-11-17', 'Transaction_Date_2024-11-18', 'Transaction_Date_2024-11-19', 'Transaction_Date_2024-11-20', 'Transaction_Date_2024-11-21', 'Transaction_Date_2024-11-22', 'Transaction_Date_2024-11-23', 'Transaction_Date_2024-11-24', 'Transaction_Date_2024-11-25', 'Transaction_Date_2024-11-26', 'Transaction_Date_2024-11-27', 'Transaction_Date_2024-11-28', 'Transaction_Date_2024-11-29', 'Transaction_Date_2024-11-30', 'Transaction_Date_2024-12-01', 'Transaction_Date_2024-12-02', 'Transaction_Date_2024-12-03', 'Transaction_Date_2024-12-04', 'Transaction_Date_2024-12-05', 'Transaction_Date_2024-12-06', 'Transaction_Date_2024-12-07', 'Transaction_Date_2024-12-08', 'Transaction_Date_2024-12-09', 'Transaction_Date_2024-12-10', 'Transaction_Date_2024-12-11', 'Transaction_Date_2024-12-12', 'Transaction_Date_2024-12-13', 'Transaction_Date_2024-12-14', 'Transaction_Date_2024-12-15', 'Transaction_Date_2024-12-16', 'Transaction_Date_2024-12-17', 'Transaction_Date_2024-12-18', 'Transaction_Date_2024-12-19', 'Transaction_Date_2024-12-20', 'Transaction_Date_2024-12-21', 'Transaction_Date_2024-12-22', 'Transaction_Date_2024-12-23', 'Transaction_Date_2024-12-24', 'Transaction_Date_2024-12-25', 'Transaction_Date_2024-12-26', 'Transaction_Date_2024-12-27', 'Transaction_Date_2024-12-28', 'Transaction_Date_2024-12-29', 'Transaction_Date_2024-12-30', 'Transaction_Date_2024-12-31', 'Transaction_Date_2025-01-01', 'Transaction_Date_2025-01-02', 'Transaction_Date_2025-01-03', 'Transaction_Date_2025-01-04', 'Transaction_Date_2025-01-05', 'Transaction_Date_2025-01-06', 'Transaction_Date_2025-01-07', 'Transaction_Date_2025-01-08', 'Transaction_Date_2025-01-09', 'Transaction_Date_2025-01-10', 'Transaction_Date_2025-01-11', 'Transaction_Date_2025-01-12', 'Transaction_Date_2025-01-13', 'Transaction_Date_2025-01-14', 'Transaction_Date_2025-01-15', 'Transaction_Date_2025-01-16', 'Transaction_Date_2025-01-17', 'Transaction_Date_2025-01-18', 'Transaction_Date_2025-01-19', 'Transaction_Date_2025-01-20', 'Transaction_Date_2025-01-21', 'Transaction_Date_2025-01-22', 'Transaction_Date_2025-01-23', 'Transaction_Date_2025-01-24', 'Transaction_Date_2025-01-25', 'Transaction_Date_2025-01-26', 'Transaction_Date_2025-01-27', 'Transaction_Date_2025-01-28', 'Transaction_Date_2025-01-29', 'Transaction_Date_2025-01-30', 'Transaction_Date_2025-01-31', 'Transaction_Date_2025-02-01', 'Transaction_Date_2025-02-02', 'Transaction_Date_2025-02-03', 'Transaction_Date_2025-02-04', 'Transaction_Date_2025-02-05', 'Transaction_Date_2025-02-06', 'Transaction_Date_2025-02-07', 'Transaction_Date_2025-02-08', 'Transaction_Date_2025-02-09', 'Transaction_Date_2025-02-10', 'Transaction_Date_2025-02-11', 'Transaction_Date_2025-02-12', 'Transaction_Date_2025-02-13', 'Transaction_Date_2025-02-14', 'Transaction_Date_2025-02-15', 'Transaction_Date_2025-02-16', 'Transaction_Date_2025-02-17', 'Transaction_Date_2025-02-18', 'Transaction_Date_2025-02-19', 'Transaction_Date_2025-02-20', 'Transaction_Date_2025-02-21', 'Transaction_Date_2025-02-22', 'Transaction_Date_2025-02-23', 'Transaction_Date_2025-02-24', 'Transaction_Date_2025-02-25', 'Transaction_Date_2025-02-26', 'Transaction_Date_2025-02-27', 'Transaction_Date_2025-02-28', 'Transaction_Date_2025-03-01', 'Transaction_Date_2025-03-02', 'Transaction_Date_2025-03-03', 'Transaction_Date_2025-03-04', 'Transaction_Date_2025-03-05', 'Transaction_Date_2025-03-06', 'Transaction_Date_2025-03-07', 'Transaction_Date_2025-03-08', 'Transaction_Date_2025-03-09', 'Transaction_Date_2025-03-10', 'Transaction_Date_2025-03-11', 'Transaction_Date_2025-03-12', 'Transaction_Date_2025-03-13', 'Transaction_Date_2025-03-14', 'Transaction_Date_2025-03-15', 'Transaction_Date_2025-03-16', 'Transaction_Date_2025-03-17', 'Transaction_Date_2025-03-18', 'Transaction_Date_2025-03-19', 'Transaction_Date_2025-03-20', 'Customer_Type_Employee', 'Customer_Type_Individual', 'City_Mumbai', 'City_Nagpur', 'City_Nashik', 'City_Pune', 'City_Solapur', 'Region_North', 'Region_South', 'Region_West']\n"
     ]
    }
   ],
   "source": [
    "print(df_encoded.columns.tolist())"
   ]
  },
  {
   "cell_type": "code",
   "execution_count": null,
   "id": "b941d1c8",
   "metadata": {},
   "outputs": [],
   "source": [
    "# Suppression des colonnes inutiles\n",
    "df.drop(['Transaction_ID','Bank_Name', 'Branch_ID'], axis=1, inplace=True)"
   ]
  },
  {
   "cell_type": "code",
   "execution_count": null,
   "id": "0bca49f5",
   "metadata": {},
   "outputs": [],
   "source": [
    "# Encodage one-hot\n",
    "#df_encoded = pd.get_dummies(df, columns=['Account_Type', 'Investment_Type', 'Customer_Type', 'Region', 'City'], drop_first=True) #drop_first=true permet d'éviter le piège des variables fictives\n",
    "#éviter la redondance en supprimant une des catégories (utile pour les modèles linéaires)\n",
    "#Cette méthode permet de transformer chaque catégorie en une série de variables binaires, évitant ainsi les erreurs de type ValueError: could not convert string to float."
   ]
  },
  {
   "cell_type": "code",
   "execution_count": 38,
   "id": "f57f5295",
   "metadata": {},
   "outputs": [],
   "source": [
    "# Transposer le DataFrame pour comparer les colonnes comme des lignes\n",
    "transposed = df_encoded.T"
   ]
  },
  {
   "cell_type": "code",
   "execution_count": 39,
   "id": "653685d8",
   "metadata": {},
   "outputs": [],
   "source": [
    "# Identifier les colonnes dupliquées (même contenu)\n",
    "duplicate_columns = transposed.duplicated(keep='first')"
   ]
  },
  {
   "cell_type": "code",
   "execution_count": 40,
   "id": "43f6dfda",
   "metadata": {},
   "outputs": [
    {
     "name": "stdout",
     "output_type": "stream",
     "text": [
      "Colonnes dupliquées : []\n"
     ]
    }
   ],
   "source": [
    "# Afficher les colonnes dupliquées\n",
    "dups = transposed[duplicate_columns].index.tolist()\n",
    "print(\"Colonnes dupliquées :\", dups)"
   ]
  },
  {
   "cell_type": "code",
   "execution_count": 43,
   "id": "7eb260af",
   "metadata": {},
   "outputs": [],
   "source": [
    "# Exemple : vérifier les valeurs uniques dans les colonnes encodées\n",
    "for col in df_encoded.columns:\n",
    "    if df_encoded[col].dtype == 'uint8':  # typique des colonnes One-Hot\n",
    "        uniques = df_encoded[col].unique()\n",
    "        if set(uniques) - {0, 1}:\n",
    "            print(f\"Incohérence dans la colonne {col} : {uniques}\")"
   ]
  },
  {
   "cell_type": "code",
   "execution_count": 48,
   "id": "8417157e",
   "metadata": {},
   "outputs": [],
   "source": [
    "df.drop(['Transaction_ID'], axis=1, inplace=True)"
   ]
  },
  {
   "cell_type": "code",
   "execution_count": 49,
   "id": "a7ffe790",
   "metadata": {},
   "outputs": [
    {
     "data": {
      "image/png": "[encoded data removed]",
      "text/plain": [
       "<Figure size 2000x1800 with 9 Axes>"
      ]
     },
     "metadata": {},
     "output_type": "display_data"
    }
   ],
   "source": [
    "df.hist(bins= 50,figsize=(20,18));"
   ]
  },
  {
   "cell_type": "code",
   "execution_count": null,
   "id": "57967b34",
   "metadata": {},
   "outputs": [
    {
     "data": {
      "image/png": "[encoded data removed]",
      "text/plain": [
       "<Figure size 1000x400 with 1 Axes>"
      ]
     },
     "metadata": {},
     "output_type": "display_data"
    }
   ],
   "source": [
    "plt.figure(figsize=(10, 4))\n",
    "sns.boxplot(x=df['Total_Balance'])\n",
    "plt.title(\"Distribution du solde\")\n",
    "plt.show()"
   ]
  },
  {
   "cell_type": "markdown",
   "id": "d59484bd",
   "metadata": {},
   "source": [
    "Calculs: mise en avant du volume d’investissement par banque, de la segmentation des clients, de laperformance régionale"
   ]
  },
  {
   "cell_type": "markdown",
   "id": "a06a8068",
   "metadata": {},
   "source": [
    "#Création d'une variable binaire pour prédire si un client choisit un dépôt à terme."
   ]
  },
  {
   "cell_type": "markdown",
   "id": "afb49ae6",
   "metadata": {},
   "source": [
    "## Séparation des variables"
   ]
  },
  {
   "cell_type": "markdown",
   "id": "2f506e6d",
   "metadata": {},
   "source": [
    "##Variable cible\n"
   ]
  },
  {
   "cell_type": "markdown",
   "id": "c9564ffe",
   "metadata": {},
   "source": [
    "#On sépare les variables indépendantes (X) de la variable dépendante (y), ici le churn du client.\n",
    "#séparation permet de structurer les données pour l’entraînement du modèle. Le choix de la variable cible dépend du problème métier — ici, anticiper le départ des clients représente un enjeu stratégique."
   ]
  },
  {
   "cell_type": "code",
   "execution_count": 55,
   "id": "86b8f571",
   "metadata": {},
   "outputs": [
    {
     "name": "stdout",
     "output_type": "stream",
     "text": [
      "       Customer_ID Account_Type  Total_Balance  Transaction_Amount  \\\n",
      "0           200000      Current        53364.0          2426.00000   \n",
      "1           200000     Business        10698.0          2428.00000   \n",
      "2           200001      Savings        96731.0          6491.08681   \n",
      "3           200001     Business        44704.0          2506.00000   \n",
      "4           200002          NaN            NaN                 NaN   \n",
      "...            ...          ...            ...                 ...   \n",
      "13660       209996     Business        27914.0          3201.00000   \n",
      "13661       209997          NaN            NaN                 NaN   \n",
      "13662       209998      Savings        43649.0          3982.00000   \n",
      "13663       209998      Savings        48572.0          3315.00000   \n",
      "13664       209999     Business        27136.0          1955.00000   \n",
      "\n",
      "       Investment_Amount    Investment_Type Transaction_Date   Age  \\\n",
      "0                11595.0      Fixed Deposit       2023-10-11  56.0   \n",
      "1                 9783.0      Fixed Deposit       2024-08-30  56.0   \n",
      "2                 1411.0  Recurring Deposit       2023-07-14  69.0   \n",
      "3                26519.0        Mutual Fund       2023-07-17  69.0   \n",
      "4                    NaN                NaN              NaN  46.0   \n",
      "...                  ...                ...              ...   ...   \n",
      "13660            12662.0        Mutual Fund       2022-10-21  23.0   \n",
      "13661                NaN                NaN              NaN  18.0   \n",
      "13662            16028.0  Recurring Deposit       2022-11-24  21.0   \n",
      "13663             8615.0      Fixed Deposit       2024-07-23  21.0   \n",
      "13664             2694.0  Recurring Deposit       2025-02-25  28.0   \n",
      "\n",
      "      Customer_Type      City Region  Firm_Revenue  Expenses  Profit_Margin  \n",
      "0          Employee      Pune  North           NaN       NaN            NaN  \n",
      "1          Employee      Pune  North           NaN       NaN            NaN  \n",
      "2               NaN  Kolhapur   East           NaN       NaN            NaN  \n",
      "3               NaN  Kolhapur   East           NaN       NaN            NaN  \n",
      "4          Business      Pune   West           NaN       NaN            NaN  \n",
      "...             ...       ...    ...           ...       ...            ...  \n",
      "13660    Individual    Mumbai  South           NaN       NaN            NaN  \n",
      "13661    Individual    Mumbai   East           NaN       NaN            NaN  \n",
      "13662      Employee  Kolhapur  North           NaN       NaN            NaN  \n",
      "13663      Employee  Kolhapur  North           NaN       NaN            NaN  \n",
      "13664      Employee    Nashik  North           NaN       NaN            NaN  \n",
      "\n",
      "[13665 rows x 14 columns]\n"
     ]
    }
   ],
   "source": [
    "print(df)"
   ]
  },
  {
   "cell_type": "code",
   "execution_count": 58,
   "id": "1db132be",
   "metadata": {},
   "outputs": [
    {
     "name": "stdout",
     "output_type": "stream",
     "text": [
      "float64    7\n",
      "object     6\n",
      "int64      1\n",
      "Name: count, dtype: int64\n"
     ]
    }
   ],
   "source": [
    "print(df.dtypes.value_counts())"
   ]
  },
  {
   "cell_type": "code",
   "execution_count": 59,
   "id": "fcdd520b",
   "metadata": {},
   "outputs": [
    {
     "name": "stdout",
     "output_type": "stream",
     "text": [
      "Colonnes non numériques : ['Account_Type', 'Investment_Type', 'Transaction_Date', 'Customer_Type', 'City', 'Region']\n",
      "float64    7\n",
      "object     6\n",
      "int64      1\n",
      "Name: count, dtype: int64\n"
     ]
    }
   ],
   "source": [
    "non_numeric_cols = df.select_dtypes(include=['object']).columns\n",
    "print(\"Colonnes non numériques :\", non_numeric_cols.tolist())\n",
    "print(df.dtypes.value_counts())"
   ]
  },
  {
   "cell_type": "code",
   "execution_count": null,
   "id": "04c2d6d7",
   "metadata": {},
   "outputs": [],
   "source": [
    "#df = pd.get_dummies(df, columns=non_numeric_cols, drop_first=True)"
   ]
  },
  {
   "cell_type": "code",
   "execution_count": 61,
   "id": "5c31854d",
   "metadata": {},
   "outputs": [
    {
     "ename": "KeyError",
     "evalue": "\"['Investment_Type'] not found in axis\"",
     "output_type": "error",
     "traceback": [
      "\u001b[1;31m---------------------------------------------------------------------------\u001b[0m",
      "\u001b[1;31mKeyError\u001b[0m                                  Traceback (most recent call last)",
      "Cell \u001b[1;32mIn[61], line 4\u001b[0m\n\u001b[0;32m      1\u001b[0m \u001b[38;5;66;03m#prédire le type d'investissement\u001b[39;00m\n\u001b[0;32m      2\u001b[0m target \u001b[38;5;241m=\u001b[39m \u001b[38;5;124m'\u001b[39m\u001b[38;5;124mInvestment_Type\u001b[39m\u001b[38;5;124m'\u001b[39m \u001b[38;5;66;03m##anticiper les préférences d’investissement pour personnaliser l’offre. Fixed Deposit\u001b[39;00m\n\u001b[1;32m----> 4\u001b[0m X \u001b[38;5;241m=\u001b[39m df\u001b[38;5;241m.\u001b[39mdrop(target, axis\u001b[38;5;241m=\u001b[39m\u001b[38;5;241m1\u001b[39m)\n\u001b[0;32m      5\u001b[0m y \u001b[38;5;241m=\u001b[39m df[target]\n\u001b[0;32m      8\u001b[0m \u001b[38;5;66;03m# Variables explicatives\u001b[39;00m\n",
      "File \u001b[1;32mc:\\Users\\Admin\\anaconda3\\Lib\\site-packages\\pandas\\core\\frame.py:5581\u001b[0m, in \u001b[0;36mDataFrame.drop\u001b[1;34m(self, labels, axis, index, columns, level, inplace, errors)\u001b[0m\n\u001b[0;32m   5433\u001b[0m \u001b[38;5;28;01mdef\u001b[39;00m \u001b[38;5;21mdrop\u001b[39m(\n\u001b[0;32m   5434\u001b[0m     \u001b[38;5;28mself\u001b[39m,\n\u001b[0;32m   5435\u001b[0m     labels: IndexLabel \u001b[38;5;241m|\u001b[39m \u001b[38;5;28;01mNone\u001b[39;00m \u001b[38;5;241m=\u001b[39m \u001b[38;5;28;01mNone\u001b[39;00m,\n\u001b[1;32m   (...)\u001b[0m\n\u001b[0;32m   5442\u001b[0m     errors: IgnoreRaise \u001b[38;5;241m=\u001b[39m \u001b[38;5;124m\"\u001b[39m\u001b[38;5;124mraise\u001b[39m\u001b[38;5;124m\"\u001b[39m,\n\u001b[0;32m   5443\u001b[0m ) \u001b[38;5;241m-\u001b[39m\u001b[38;5;241m>\u001b[39m DataFrame \u001b[38;5;241m|\u001b[39m \u001b[38;5;28;01mNone\u001b[39;00m:\n\u001b[0;32m   5444\u001b[0m \u001b[38;5;250m    \u001b[39m\u001b[38;5;124;03m\"\"\"\u001b[39;00m\n\u001b[0;32m   5445\u001b[0m \u001b[38;5;124;03m    Drop specified labels from rows or columns.\u001b[39;00m\n\u001b[0;32m   5446\u001b[0m \n\u001b[1;32m   (...)\u001b[0m\n\u001b[0;32m   5579\u001b[0m \u001b[38;5;124;03m            weight  1.0     0.8\u001b[39;00m\n\u001b[0;32m   5580\u001b[0m \u001b[38;5;124;03m    \"\"\"\u001b[39;00m\n\u001b[1;32m-> 5581\u001b[0m     \u001b[38;5;28;01mreturn\u001b[39;00m \u001b[38;5;28msuper\u001b[39m()\u001b[38;5;241m.\u001b[39mdrop(\n\u001b[0;32m   5582\u001b[0m         labels\u001b[38;5;241m=\u001b[39mlabels,\n\u001b[0;32m   5583\u001b[0m         axis\u001b[38;5;241m=\u001b[39maxis,\n\u001b[0;32m   5584\u001b[0m         index\u001b[38;5;241m=\u001b[39mindex,\n\u001b[0;32m   5585\u001b[0m         columns\u001b[38;5;241m=\u001b[39mcolumns,\n\u001b[0;32m   5586\u001b[0m         level\u001b[38;5;241m=\u001b[39mlevel,\n\u001b[0;32m   5587\u001b[0m         inplace\u001b[38;5;241m=\u001b[39minplace,\n\u001b[0;32m   5588\u001b[0m         errors\u001b[38;5;241m=\u001b[39merrors,\n\u001b[0;32m   5589\u001b[0m     )\n",
      "File \u001b[1;32mc:\\Users\\Admin\\anaconda3\\Lib\\site-packages\\pandas\\core\\generic.py:4788\u001b[0m, in \u001b[0;36mNDFrame.drop\u001b[1;34m(self, labels, axis, index, columns, level, inplace, errors)\u001b[0m\n\u001b[0;32m   4786\u001b[0m \u001b[38;5;28;01mfor\u001b[39;00m axis, labels \u001b[38;5;129;01min\u001b[39;00m axes\u001b[38;5;241m.\u001b[39mitems():\n\u001b[0;32m   4787\u001b[0m     \u001b[38;5;28;01mif\u001b[39;00m labels \u001b[38;5;129;01mis\u001b[39;00m \u001b[38;5;129;01mnot\u001b[39;00m \u001b[38;5;28;01mNone\u001b[39;00m:\n\u001b[1;32m-> 4788\u001b[0m         obj \u001b[38;5;241m=\u001b[39m obj\u001b[38;5;241m.\u001b[39m_drop_axis(labels, axis, level\u001b[38;5;241m=\u001b[39mlevel, errors\u001b[38;5;241m=\u001b[39merrors)\n\u001b[0;32m   4790\u001b[0m \u001b[38;5;28;01mif\u001b[39;00m inplace:\n\u001b[0;32m   4791\u001b[0m     \u001b[38;5;28mself\u001b[39m\u001b[38;5;241m.\u001b[39m_update_inplace(obj)\n",
      "File \u001b[1;32mc:\\Users\\Admin\\anaconda3\\Lib\\site-packages\\pandas\\core\\generic.py:4830\u001b[0m, in \u001b[0;36mNDFrame._drop_axis\u001b[1;34m(self, labels, axis, level, errors, only_slice)\u001b[0m\n\u001b[0;32m   4828\u001b[0m         new_axis \u001b[38;5;241m=\u001b[39m axis\u001b[38;5;241m.\u001b[39mdrop(labels, level\u001b[38;5;241m=\u001b[39mlevel, errors\u001b[38;5;241m=\u001b[39merrors)\n\u001b[0;32m   4829\u001b[0m     \u001b[38;5;28;01melse\u001b[39;00m:\n\u001b[1;32m-> 4830\u001b[0m         new_axis \u001b[38;5;241m=\u001b[39m axis\u001b[38;5;241m.\u001b[39mdrop(labels, errors\u001b[38;5;241m=\u001b[39merrors)\n\u001b[0;32m   4831\u001b[0m     indexer \u001b[38;5;241m=\u001b[39m axis\u001b[38;5;241m.\u001b[39mget_indexer(new_axis)\n\u001b[0;32m   4833\u001b[0m \u001b[38;5;66;03m# Case for non-unique axis\u001b[39;00m\n\u001b[0;32m   4834\u001b[0m \u001b[38;5;28;01melse\u001b[39;00m:\n",
      "File \u001b[1;32mc:\\Users\\Admin\\anaconda3\\Lib\\site-packages\\pandas\\core\\indexes\\base.py:7070\u001b[0m, in \u001b[0;36mIndex.drop\u001b[1;34m(self, labels, errors)\u001b[0m\n\u001b[0;32m   7068\u001b[0m \u001b[38;5;28;01mif\u001b[39;00m mask\u001b[38;5;241m.\u001b[39many():\n\u001b[0;32m   7069\u001b[0m     \u001b[38;5;28;01mif\u001b[39;00m errors \u001b[38;5;241m!=\u001b[39m \u001b[38;5;124m\"\u001b[39m\u001b[38;5;124mignore\u001b[39m\u001b[38;5;124m\"\u001b[39m:\n\u001b[1;32m-> 7070\u001b[0m         \u001b[38;5;28;01mraise\u001b[39;00m \u001b[38;5;167;01mKeyError\u001b[39;00m(\u001b[38;5;124mf\u001b[39m\u001b[38;5;124m\"\u001b[39m\u001b[38;5;132;01m{\u001b[39;00mlabels[mask]\u001b[38;5;241m.\u001b[39mtolist()\u001b[38;5;132;01m}\u001b[39;00m\u001b[38;5;124m not found in axis\u001b[39m\u001b[38;5;124m\"\u001b[39m)\n\u001b[0;32m   7071\u001b[0m     indexer \u001b[38;5;241m=\u001b[39m indexer[\u001b[38;5;241m~\u001b[39mmask]\n\u001b[0;32m   7072\u001b[0m \u001b[38;5;28;01mreturn\u001b[39;00m \u001b[38;5;28mself\u001b[39m\u001b[38;5;241m.\u001b[39mdelete(indexer)\n",
      "\u001b[1;31mKeyError\u001b[0m: \"['Investment_Type'] not found in axis\""
     ]
    }
   ],
   "source": [
    "#prédire le type d'investissement\n",
    "target = 'Investment_Type' ##anticiper les préférences d’investissement pour personnaliser l’offre. Fixed Deposit\n",
    "\n",
    "X = df.drop(target, axis=1)\n",
    "y = df[target]\n",
    "\n",
    "\n",
    "# Variables explicatives\n",
    "X = df.drop(target, axis=1)\n",
    "y = df[target]"
   ]
  },
  {
   "cell_type": "markdown",
   "id": "2373471d",
   "metadata": {},
   "source": [
    "# Entraînement du modèle de l'Arbre de décision (Decision Tree)"
   ]
  },
  {
   "cell_type": "code",
   "execution_count": 57,
   "id": "a1bc9b40",
   "metadata": {},
   "outputs": [
    {
     "ename": "ValueError",
     "evalue": "could not convert string to float: 'Savings'",
     "output_type": "error",
     "traceback": [
      "\u001b[1;31m---------------------------------------------------------------------------\u001b[0m",
      "\u001b[1;31mValueError\u001b[0m                                Traceback (most recent call last)",
      "\u001b[1;32m~\\AppData\\Local\\Temp\\ipykernel_21720\\1163500119.py\u001b[0m in \u001b[0;36m?\u001b[1;34m()\u001b[0m\n\u001b[0;32m      5\u001b[0m \u001b[0mX_train\u001b[0m\u001b[1;33m,\u001b[0m \u001b[0mX_test\u001b[0m\u001b[1;33m,\u001b[0m \u001b[0my_train\u001b[0m\u001b[1;33m,\u001b[0m \u001b[0my_test\u001b[0m \u001b[1;33m=\u001b[0m \u001b[0mtrain_test_split\u001b[0m\u001b[1;33m(\u001b[0m\u001b[0mX\u001b[0m\u001b[1;33m,\u001b[0m \u001b[0my\u001b[0m\u001b[1;33m,\u001b[0m \u001b[0mtest_size\u001b[0m\u001b[1;33m=\u001b[0m\u001b[1;36m0.3\u001b[0m\u001b[1;33m,\u001b[0m \u001b[0mrandom_state\u001b[0m\u001b[1;33m=\u001b[0m\u001b[1;36m42\u001b[0m\u001b[1;33m)\u001b[0m\u001b[1;33m\u001b[0m\u001b[1;33m\u001b[0m\u001b[0m\n\u001b[0;32m      6\u001b[0m \u001b[1;33m\u001b[0m\u001b[0m\n\u001b[0;32m      7\u001b[0m \u001b[1;31m# Création du modèle\u001b[0m\u001b[1;33m\u001b[0m\u001b[1;33m\u001b[0m\u001b[0m\n\u001b[0;32m      8\u001b[0m \u001b[0mclf\u001b[0m \u001b[1;33m=\u001b[0m \u001b[0mDecisionTreeClassifier\u001b[0m\u001b[1;33m(\u001b[0m\u001b[0mmax_depth\u001b[0m\u001b[1;33m=\u001b[0m\u001b[1;36m3\u001b[0m\u001b[1;33m,\u001b[0m \u001b[0mrandom_state\u001b[0m\u001b[1;33m=\u001b[0m\u001b[1;36m42\u001b[0m\u001b[1;33m)\u001b[0m\u001b[1;33m\u001b[0m\u001b[1;33m\u001b[0m\u001b[0m\n\u001b[1;32m----> 9\u001b[1;33m \u001b[0mclf\u001b[0m\u001b[1;33m.\u001b[0m\u001b[0mfit\u001b[0m\u001b[1;33m(\u001b[0m\u001b[0mX_train\u001b[0m\u001b[1;33m,\u001b[0m \u001b[0my_train\u001b[0m\u001b[1;33m)\u001b[0m\u001b[1;33m\u001b[0m\u001b[1;33m\u001b[0m\u001b[0m\n\u001b[0m\u001b[0;32m     10\u001b[0m \u001b[1;31m#ax_depth=3 permet de rendre l’arbre plus lisible tout en réduisant le risque de surapprentissage. La séparation des données assure une évaluation plus réaliste des performances du modèle. Ce modele est idéal pour une première preuve de concept\u001b[0m\u001b[1;33m\u001b[0m\u001b[1;33m\u001b[0m\u001b[0m\n",
      "\u001b[1;32mc:\\Users\\Admin\\anaconda3\\Lib\\site-packages\\sklearn\\tree\\_classes.py\u001b[0m in \u001b[0;36m?\u001b[1;34m(self, X, y, sample_weight, check_input)\u001b[0m\n\u001b[0;32m    965\u001b[0m         \u001b[0mself\u001b[0m \u001b[1;33m:\u001b[0m \u001b[0mDecisionTreeClassifier\u001b[0m\u001b[1;33m\u001b[0m\u001b[1;33m\u001b[0m\u001b[0m\n\u001b[0;32m    966\u001b[0m             \u001b[0mFitted\u001b[0m \u001b[0mestimator\u001b[0m\u001b[1;33m.\u001b[0m\u001b[1;33m\u001b[0m\u001b[1;33m\u001b[0m\u001b[0m\n\u001b[0;32m    967\u001b[0m         \"\"\"\n\u001b[0;32m    968\u001b[0m \u001b[1;33m\u001b[0m\u001b[0m\n\u001b[1;32m--> 969\u001b[1;33m         super().fit(\n\u001b[0m\u001b[0;32m    970\u001b[0m             \u001b[0mX\u001b[0m\u001b[1;33m,\u001b[0m\u001b[1;33m\u001b[0m\u001b[1;33m\u001b[0m\u001b[0m\n\u001b[0;32m    971\u001b[0m             \u001b[0my\u001b[0m\u001b[1;33m,\u001b[0m\u001b[1;33m\u001b[0m\u001b[1;33m\u001b[0m\u001b[0m\n\u001b[0;32m    972\u001b[0m             \u001b[0msample_weight\u001b[0m\u001b[1;33m=\u001b[0m\u001b[0msample_weight\u001b[0m\u001b[1;33m,\u001b[0m\u001b[1;33m\u001b[0m\u001b[1;33m\u001b[0m\u001b[0m\n",
      "\u001b[1;32mc:\\Users\\Admin\\anaconda3\\Lib\\site-packages\\sklearn\\tree\\_classes.py\u001b[0m in \u001b[0;36m?\u001b[1;34m(self, X, y, sample_weight, check_input)\u001b[0m\n\u001b[0;32m    168\u001b[0m             \u001b[1;31m# We can't pass multi_output=True because that would allow y to be\u001b[0m\u001b[1;33m\u001b[0m\u001b[1;33m\u001b[0m\u001b[0m\n\u001b[0;32m    169\u001b[0m             \u001b[1;31m# csr.\u001b[0m\u001b[1;33m\u001b[0m\u001b[1;33m\u001b[0m\u001b[0m\n\u001b[0;32m    170\u001b[0m             \u001b[0mcheck_X_params\u001b[0m \u001b[1;33m=\u001b[0m \u001b[0mdict\u001b[0m\u001b[1;33m(\u001b[0m\u001b[0mdtype\u001b[0m\u001b[1;33m=\u001b[0m\u001b[0mDTYPE\u001b[0m\u001b[1;33m,\u001b[0m \u001b[0maccept_sparse\u001b[0m\u001b[1;33m=\u001b[0m\u001b[1;34m\"csc\"\u001b[0m\u001b[1;33m)\u001b[0m\u001b[1;33m\u001b[0m\u001b[1;33m\u001b[0m\u001b[0m\n\u001b[0;32m    171\u001b[0m             \u001b[0mcheck_y_params\u001b[0m \u001b[1;33m=\u001b[0m \u001b[0mdict\u001b[0m\u001b[1;33m(\u001b[0m\u001b[0mensure_2d\u001b[0m\u001b[1;33m=\u001b[0m\u001b[1;32mFalse\u001b[0m\u001b[1;33m,\u001b[0m \u001b[0mdtype\u001b[0m\u001b[1;33m=\u001b[0m\u001b[1;32mNone\u001b[0m\u001b[1;33m)\u001b[0m\u001b[1;33m\u001b[0m\u001b[1;33m\u001b[0m\u001b[0m\n\u001b[1;32m--> 172\u001b[1;33m             X, y = self._validate_data(\n\u001b[0m\u001b[0;32m    173\u001b[0m                 \u001b[0mX\u001b[0m\u001b[1;33m,\u001b[0m \u001b[0my\u001b[0m\u001b[1;33m,\u001b[0m \u001b[0mvalidate_separately\u001b[0m\u001b[1;33m=\u001b[0m\u001b[1;33m(\u001b[0m\u001b[0mcheck_X_params\u001b[0m\u001b[1;33m,\u001b[0m \u001b[0mcheck_y_params\u001b[0m\u001b[1;33m)\u001b[0m\u001b[1;33m\u001b[0m\u001b[1;33m\u001b[0m\u001b[0m\n\u001b[0;32m    174\u001b[0m             )\n\u001b[0;32m    175\u001b[0m             \u001b[1;32mif\u001b[0m \u001b[0missparse\u001b[0m\u001b[1;33m(\u001b[0m\u001b[0mX\u001b[0m\u001b[1;33m)\u001b[0m\u001b[1;33m:\u001b[0m\u001b[1;33m\u001b[0m\u001b[1;33m\u001b[0m\u001b[0m\n",
      "\u001b[1;32mc:\\Users\\Admin\\anaconda3\\Lib\\site-packages\\sklearn\\base.py\u001b[0m in \u001b[0;36m?\u001b[1;34m(self, X, y, reset, validate_separately, **check_params)\u001b[0m\n\u001b[0;32m    587\u001b[0m                 \u001b[1;31m# :(\u001b[0m\u001b[1;33m\u001b[0m\u001b[1;33m\u001b[0m\u001b[0m\n\u001b[0;32m    588\u001b[0m                 \u001b[0mcheck_X_params\u001b[0m\u001b[1;33m,\u001b[0m \u001b[0mcheck_y_params\u001b[0m \u001b[1;33m=\u001b[0m \u001b[0mvalidate_separately\u001b[0m\u001b[1;33m\u001b[0m\u001b[1;33m\u001b[0m\u001b[0m\n\u001b[0;32m    589\u001b[0m                 \u001b[1;32mif\u001b[0m \u001b[1;34m\"estimator\"\u001b[0m \u001b[1;32mnot\u001b[0m \u001b[1;32min\u001b[0m \u001b[0mcheck_X_params\u001b[0m\u001b[1;33m:\u001b[0m\u001b[1;33m\u001b[0m\u001b[1;33m\u001b[0m\u001b[0m\n\u001b[0;32m    590\u001b[0m                     \u001b[0mcheck_X_params\u001b[0m \u001b[1;33m=\u001b[0m \u001b[1;33m{\u001b[0m\u001b[1;33m**\u001b[0m\u001b[0mdefault_check_params\u001b[0m\u001b[1;33m,\u001b[0m \u001b[1;33m**\u001b[0m\u001b[0mcheck_X_params\u001b[0m\u001b[1;33m}\u001b[0m\u001b[1;33m\u001b[0m\u001b[1;33m\u001b[0m\u001b[0m\n\u001b[1;32m--> 591\u001b[1;33m                 \u001b[0mX\u001b[0m \u001b[1;33m=\u001b[0m \u001b[0mcheck_array\u001b[0m\u001b[1;33m(\u001b[0m\u001b[0mX\u001b[0m\u001b[1;33m,\u001b[0m \u001b[0minput_name\u001b[0m\u001b[1;33m=\u001b[0m\u001b[1;34m\"X\"\u001b[0m\u001b[1;33m,\u001b[0m \u001b[1;33m**\u001b[0m\u001b[0mcheck_X_params\u001b[0m\u001b[1;33m)\u001b[0m\u001b[1;33m\u001b[0m\u001b[1;33m\u001b[0m\u001b[0m\n\u001b[0m\u001b[0;32m    592\u001b[0m                 \u001b[1;32mif\u001b[0m \u001b[1;34m\"estimator\"\u001b[0m \u001b[1;32mnot\u001b[0m \u001b[1;32min\u001b[0m \u001b[0mcheck_y_params\u001b[0m\u001b[1;33m:\u001b[0m\u001b[1;33m\u001b[0m\u001b[1;33m\u001b[0m\u001b[0m\n\u001b[0;32m    593\u001b[0m                     \u001b[0mcheck_y_params\u001b[0m \u001b[1;33m=\u001b[0m \u001b[1;33m{\u001b[0m\u001b[1;33m**\u001b[0m\u001b[0mdefault_check_params\u001b[0m\u001b[1;33m,\u001b[0m \u001b[1;33m**\u001b[0m\u001b[0mcheck_y_params\u001b[0m\u001b[1;33m}\u001b[0m\u001b[1;33m\u001b[0m\u001b[1;33m\u001b[0m\u001b[0m\n\u001b[0;32m    594\u001b[0m                 \u001b[0my\u001b[0m \u001b[1;33m=\u001b[0m \u001b[0mcheck_array\u001b[0m\u001b[1;33m(\u001b[0m\u001b[0my\u001b[0m\u001b[1;33m,\u001b[0m \u001b[0minput_name\u001b[0m\u001b[1;33m=\u001b[0m\u001b[1;34m\"y\"\u001b[0m\u001b[1;33m,\u001b[0m \u001b[1;33m**\u001b[0m\u001b[0mcheck_y_params\u001b[0m\u001b[1;33m)\u001b[0m\u001b[1;33m\u001b[0m\u001b[1;33m\u001b[0m\u001b[0m\n",
      "\u001b[1;32mc:\\Users\\Admin\\anaconda3\\Lib\\site-packages\\sklearn\\utils\\validation.py\u001b[0m in \u001b[0;36m?\u001b[1;34m(array, accept_sparse, accept_large_sparse, dtype, order, copy, force_all_finite, ensure_2d, allow_nd, ensure_min_samples, ensure_min_features, estimator, input_name)\u001b[0m\n\u001b[0;32m    853\u001b[0m                         )\n\u001b[0;32m    854\u001b[0m                     \u001b[0marray\u001b[0m \u001b[1;33m=\u001b[0m \u001b[0marray\u001b[0m\u001b[1;33m.\u001b[0m\u001b[0mastype\u001b[0m\u001b[1;33m(\u001b[0m\u001b[0mdtype\u001b[0m\u001b[1;33m,\u001b[0m \u001b[0mcasting\u001b[0m\u001b[1;33m=\u001b[0m\u001b[1;34m\"unsafe\"\u001b[0m\u001b[1;33m,\u001b[0m \u001b[0mcopy\u001b[0m\u001b[1;33m=\u001b[0m\u001b[1;32mFalse\u001b[0m\u001b[1;33m)\u001b[0m\u001b[1;33m\u001b[0m\u001b[1;33m\u001b[0m\u001b[0m\n\u001b[0;32m    855\u001b[0m                 \u001b[1;32melse\u001b[0m\u001b[1;33m:\u001b[0m\u001b[1;33m\u001b[0m\u001b[1;33m\u001b[0m\u001b[0m\n\u001b[0;32m    856\u001b[0m                     \u001b[0marray\u001b[0m \u001b[1;33m=\u001b[0m \u001b[0mnp\u001b[0m\u001b[1;33m.\u001b[0m\u001b[0masarray\u001b[0m\u001b[1;33m(\u001b[0m\u001b[0marray\u001b[0m\u001b[1;33m,\u001b[0m \u001b[0morder\u001b[0m\u001b[1;33m=\u001b[0m\u001b[0morder\u001b[0m\u001b[1;33m,\u001b[0m \u001b[0mdtype\u001b[0m\u001b[1;33m=\u001b[0m\u001b[0mdtype\u001b[0m\u001b[1;33m)\u001b[0m\u001b[1;33m\u001b[0m\u001b[1;33m\u001b[0m\u001b[0m\n\u001b[1;32m--> 857\u001b[1;33m             \u001b[1;32mexcept\u001b[0m \u001b[0mComplexWarning\u001b[0m \u001b[1;32mas\u001b[0m \u001b[0mcomplex_warning\u001b[0m\u001b[1;33m:\u001b[0m\u001b[1;33m\u001b[0m\u001b[1;33m\u001b[0m\u001b[0m\n\u001b[0m\u001b[0;32m    858\u001b[0m                 raise ValueError(\n\u001b[0;32m    859\u001b[0m                     \u001b[1;34m\"Complex data not supported\\n{}\\n\"\u001b[0m\u001b[1;33m.\u001b[0m\u001b[0mformat\u001b[0m\u001b[1;33m(\u001b[0m\u001b[0marray\u001b[0m\u001b[1;33m)\u001b[0m\u001b[1;33m\u001b[0m\u001b[1;33m\u001b[0m\u001b[0m\n\u001b[0;32m    860\u001b[0m                 ) from complex_warning\n",
      "\u001b[1;32mc:\\Users\\Admin\\anaconda3\\Lib\\site-packages\\pandas\\core\\generic.py\u001b[0m in \u001b[0;36m?\u001b[1;34m(self, dtype, copy)\u001b[0m\n\u001b[0;32m   2149\u001b[0m     def __array__(\n\u001b[0;32m   2150\u001b[0m         \u001b[0mself\u001b[0m\u001b[1;33m,\u001b[0m \u001b[0mdtype\u001b[0m\u001b[1;33m:\u001b[0m \u001b[0mnpt\u001b[0m\u001b[1;33m.\u001b[0m\u001b[0mDTypeLike\u001b[0m \u001b[1;33m|\u001b[0m \u001b[1;32mNone\u001b[0m \u001b[1;33m=\u001b[0m \u001b[1;32mNone\u001b[0m\u001b[1;33m,\u001b[0m \u001b[0mcopy\u001b[0m\u001b[1;33m:\u001b[0m \u001b[0mbool_t\u001b[0m \u001b[1;33m|\u001b[0m \u001b[1;32mNone\u001b[0m \u001b[1;33m=\u001b[0m \u001b[1;32mNone\u001b[0m\u001b[1;33m\u001b[0m\u001b[1;33m\u001b[0m\u001b[0m\n\u001b[0;32m   2151\u001b[0m     ) -> np.ndarray:\n\u001b[0;32m   2152\u001b[0m         \u001b[0mvalues\u001b[0m \u001b[1;33m=\u001b[0m \u001b[0mself\u001b[0m\u001b[1;33m.\u001b[0m\u001b[0m_values\u001b[0m\u001b[1;33m\u001b[0m\u001b[1;33m\u001b[0m\u001b[0m\n\u001b[1;32m-> 2153\u001b[1;33m         \u001b[0marr\u001b[0m \u001b[1;33m=\u001b[0m \u001b[0mnp\u001b[0m\u001b[1;33m.\u001b[0m\u001b[0masarray\u001b[0m\u001b[1;33m(\u001b[0m\u001b[0mvalues\u001b[0m\u001b[1;33m,\u001b[0m \u001b[0mdtype\u001b[0m\u001b[1;33m=\u001b[0m\u001b[0mdtype\u001b[0m\u001b[1;33m)\u001b[0m\u001b[1;33m\u001b[0m\u001b[1;33m\u001b[0m\u001b[0m\n\u001b[0m\u001b[0;32m   2154\u001b[0m         if (\n\u001b[0;32m   2155\u001b[0m             \u001b[0mastype_is_view\u001b[0m\u001b[1;33m(\u001b[0m\u001b[0mvalues\u001b[0m\u001b[1;33m.\u001b[0m\u001b[0mdtype\u001b[0m\u001b[1;33m,\u001b[0m \u001b[0marr\u001b[0m\u001b[1;33m.\u001b[0m\u001b[0mdtype\u001b[0m\u001b[1;33m)\u001b[0m\u001b[1;33m\u001b[0m\u001b[1;33m\u001b[0m\u001b[0m\n\u001b[0;32m   2156\u001b[0m             \u001b[1;32mand\u001b[0m \u001b[0musing_copy_on_write\u001b[0m\u001b[1;33m(\u001b[0m\u001b[1;33m)\u001b[0m\u001b[1;33m\u001b[0m\u001b[1;33m\u001b[0m\u001b[0m\n",
      "\u001b[1;31mValueError\u001b[0m: could not convert string to float: 'Savings'"
     ]
    }
   ],
   "source": [
    "from sklearn.tree import DecisionTreeClassifier\n",
    "from sklearn.model_selection import train_test_split\n",
    "\n",
    "# Séparation en jeu d'entraînement et de test\n",
    "X_train, X_test, y_train, y_test = train_test_split(X, y, test_size=0.3, random_state=42)\n",
    "\n",
    "# Création du modèle\n",
    "clf = DecisionTreeClassifier(max_depth=3, random_state=42)\n",
    "clf.fit(X_train, y_train)\n",
    "#ax_depth=3 permet de rendre l’arbre plus lisible tout en réduisant le risque de surapprentissage. La séparation des données assure une évaluation plus réaliste des performances du modèle. Ce modele est idéal pour une première preuve de concept"
   ]
  },
  {
   "cell_type": "code",
   "execution_count": null,
   "id": "78cb1452",
   "metadata": {},
   "outputs": [],
   "source": [
    "from sklearn.metrics import accuracy_score, confusion_matrix, classification_report\n",
    "\n",
    "# Prédictions\n",
    "y_pred = clf.predict(X_test)\n",
    "\n",
    "# Métriques\n",
    "print(\"Accuracy:\", accuracy_score(y_test, y_pred))\n",
    "print(\"Confusion Matrix:\\n\", confusion_matrix(y_test, y_pred))\n",
    "print(\"Classification Report:\\n\", classification_report(y_test, y_pred))\n",
    "#On évalue le modèle avec des métriques classiques : précision, matrice de confusion, F1-score"
   ]
  },
  {
   "cell_type": "markdown",
   "id": "42d822e4",
   "metadata": {},
   "source": [
    "# Visualisation avec dtreeviz "
   ]
  },
  {
   "cell_type": "code",
   "execution_count": null,
   "id": "263016f1",
   "metadata": {},
   "outputs": [],
   "source": [
    "from dtreeviz.trees import dtreeviz\n",
    "\n",
    "viz = dtreeviz(clf, \n",
    "               X_train, \n",
    "               y_train, \n",
    "               target_name=\"Customer Churn\", \n",
    "               feature_names=X_train.columns, \n",
    "               class_names=[\"No Churn\", \"Churn\"])\n",
    "\n",
    "viz.view()\n"
   ]
  },
  {
   "cell_type": "markdown",
   "id": "8338163d",
   "metadata": {},
   "source": [
    "puis liste un plan detaille avec des points precis pour la creation des slides pour finaliser livrable GitHub."
   ]
  }
 ],
 "metadata": {
  "kernelspec": {
   "display_name": "base",
   "language": "python",
   "name": "python3"
  },
  "language_info": {
   "codemirror_mode": {
    "name": "ipython",
    "version": 3
   },
   "file_extension": ".py",
   "mimetype": "text/x-python",
   "name": "python",
   "nbconvert_exporter": "python",
   "pygments_lexer": "ipython3",
   "version": "3.11.5"
  }
 },
 "nbformat": 4,
 "nbformat_minor": 5
}
