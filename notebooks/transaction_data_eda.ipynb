{
 "cells": [
  {
   "cell_type": "markdown",
   "id": "1daba6a4",
   "metadata": {},
   "source": [
    "transaction_data.csv\n",
    "- SRC :  https://www.kaggle.com/datasets/yogeshtekawade/banking-and-customer-transaction-data\n",
    "    - customer_data.csv - données démographiques et profils client\n",
    "    - transaction_data.csv - historique des transactions et investissements\n",
    "            - Utilité : prédire des événements comme le churn ou la fraude\n",
    "            - permet de modéliser les comportements financiers individuels, d’identifier des tendances d’investissement ou de dépenses.\n",
    "    - bank_data.csv - performance financière des agences bancaires données synthétiques mais réalistes, avec du bruit et des valeurs manquantes pour simuler un environnement réel"
   ]
  },
  {
   "cell_type": "markdown",
   "id": "fd2d0eaa",
   "metadata": {},
   "source": [
    "## Chargement des données\n",
    "## Nettoyage des données"
   ]
  },
  {
   "cell_type": "code",
   "execution_count": 1,
   "id": "77f8305f",
   "metadata": {},
   "outputs": [
    {
     "name": "stderr",
     "output_type": "stream",
     "text": [
      "c:\\Users\\Admin\\anaconda3\\Lib\\site-packages\\pandas\\core\\arrays\\masked.py:60: UserWarning: Pandas requires version '1.3.6' or newer of 'bottleneck' (version '1.3.5' currently installed).\n",
      "  from pandas.core import (\n"
     ]
    }
   ],
   "source": [
    "import pandas as pd\n",
    "import numpy as np\n",
    "import matplotlib.pyplot as plt\n",
    "import seaborn as sns\n",
    "import matplotlib.pyplot as plt\n",
    "import os"
   ]
  },
  {
   "cell_type": "code",
   "execution_count": 2,
   "id": "deecf35d",
   "metadata": {},
   "outputs": [
    {
     "name": "stdout",
     "output_type": "stream",
     "text": [
      "C:\\Users\\Admin\\Desktop\\BankingMLProject\\data\\transaction_data.csv\n"
     ]
    },
    {
     "data": {
      "text/plain": [
       "'C:\\\\Users\\\\Admin\\\\Desktop\\\\BankingMLProject\\\\data\\\\transaction_data.csv'"
      ]
     },
     "execution_count": 2,
     "metadata": {},
     "output_type": "execute_result"
    }
   ],
   "source": [
    "directory_path = r'C:\\Users\\Admin\\Desktop\\BankingMLProject\\data'\n",
    "filename = 'transaction_data.csv'\n",
    "filename_path = os.path.join(directory_path, filename)\n",
    "print(os.path.join(directory_path, filename))\n",
    "filename_path"
   ]
  },
  {
   "cell_type": "code",
   "execution_count": 3,
   "id": "ebb848d6",
   "metadata": {},
   "outputs": [],
   "source": [
    "# Chargement du fichier\n",
    "df = pd.read_csv(filename_path)"
   ]
  },
  {
   "cell_type": "code",
   "execution_count": 4,
   "id": "3f63945e",
   "metadata": {},
   "outputs": [
    {
     "data": {
      "text/html": [
       "<div>\n",
       "<style scoped>\n",
       "    .dataframe tbody tr th:only-of-type {\n",
       "        vertical-align: middle;\n",
       "    }\n",
       "\n",
       "    .dataframe tbody tr th {\n",
       "        vertical-align: top;\n",
       "    }\n",
       "\n",
       "    .dataframe thead th {\n",
       "        text-align: right;\n",
       "    }\n",
       "</style>\n",
       "<table border=\"1\" class=\"dataframe\">\n",
       "  <thead>\n",
       "    <tr style=\"text-align: right;\">\n",
       "      <th></th>\n",
       "      <th>Transaction_ID</th>\n",
       "      <th>Customer_ID</th>\n",
       "      <th>Account_Type</th>\n",
       "      <th>Total_Balance</th>\n",
       "      <th>Transaction_Amount</th>\n",
       "      <th>Investment_Amount</th>\n",
       "      <th>Investment_Type</th>\n",
       "      <th>Transaction_Date</th>\n",
       "    </tr>\n",
       "  </thead>\n",
       "  <tbody>\n",
       "    <tr>\n",
       "      <th>0</th>\n",
       "      <td>300000</td>\n",
       "      <td>209689</td>\n",
       "      <td>Business</td>\n",
       "      <td>69339</td>\n",
       "      <td>4794.0</td>\n",
       "      <td>42580</td>\n",
       "      <td>Fixed Deposit</td>\n",
       "      <td>2024-12-08</td>\n",
       "    </tr>\n",
       "    <tr>\n",
       "      <th>1</th>\n",
       "      <td>300001</td>\n",
       "      <td>206124</td>\n",
       "      <td>Business</td>\n",
       "      <td>12825</td>\n",
       "      <td>3500.0</td>\n",
       "      <td>46605</td>\n",
       "      <td>Fixed Deposit</td>\n",
       "      <td>2022-09-09</td>\n",
       "    </tr>\n",
       "    <tr>\n",
       "      <th>2</th>\n",
       "      <td>300002</td>\n",
       "      <td>207501</td>\n",
       "      <td>Current</td>\n",
       "      <td>67753</td>\n",
       "      <td>2401.0</td>\n",
       "      <td>17027</td>\n",
       "      <td>Fixed Deposit</td>\n",
       "      <td>2022-04-28</td>\n",
       "    </tr>\n",
       "    <tr>\n",
       "      <th>3</th>\n",
       "      <td>300003</td>\n",
       "      <td>208675</td>\n",
       "      <td>Savings</td>\n",
       "      <td>67061</td>\n",
       "      <td>2952.0</td>\n",
       "      <td>3054</td>\n",
       "      <td>Fixed Deposit</td>\n",
       "      <td>2023-05-22</td>\n",
       "    </tr>\n",
       "    <tr>\n",
       "      <th>4</th>\n",
       "      <td>300004</td>\n",
       "      <td>204923</td>\n",
       "      <td>Business</td>\n",
       "      <td>8566</td>\n",
       "      <td>1025.0</td>\n",
       "      <td>44937</td>\n",
       "      <td>Fixed Deposit</td>\n",
       "      <td>2023-04-05</td>\n",
       "    </tr>\n",
       "  </tbody>\n",
       "</table>\n",
       "</div>"
      ],
      "text/plain": [
       "   Transaction_ID  Customer_ID Account_Type  Total_Balance  \\\n",
       "0          300000       209689     Business          69339   \n",
       "1          300001       206124     Business          12825   \n",
       "2          300002       207501      Current          67753   \n",
       "3          300003       208675      Savings          67061   \n",
       "4          300004       204923     Business           8566   \n",
       "\n",
       "   Transaction_Amount  Investment_Amount Investment_Type Transaction_Date  \n",
       "0              4794.0              42580   Fixed Deposit       2024-12-08  \n",
       "1              3500.0              46605   Fixed Deposit       2022-09-09  \n",
       "2              2401.0              17027   Fixed Deposit       2022-04-28  \n",
       "3              2952.0               3054   Fixed Deposit       2023-05-22  \n",
       "4              1025.0              44937   Fixed Deposit       2023-04-05  "
      ]
     },
     "execution_count": 4,
     "metadata": {},
     "output_type": "execute_result"
    }
   ],
   "source": [
    "# Affichage des 5 premières lignes pour inspection\n",
    "df.head()"
   ]
  },
  {
   "cell_type": "code",
   "execution_count": 5,
   "id": "fa546efc",
   "metadata": {},
   "outputs": [
    {
     "name": "stdout",
     "output_type": "stream",
     "text": [
      "Index(['Transaction_ID', 'Customer_ID', 'Account_Type', 'Total_Balance',\n",
      "       'Transaction_Amount', 'Investment_Amount', 'Investment_Type',\n",
      "       'Transaction_Date'],\n",
      "      dtype='object')\n"
     ]
    }
   ],
   "source": [
    "print(df.columns)"
   ]
  },
  {
   "cell_type": "code",
   "execution_count": 6,
   "id": "6d30eba9",
   "metadata": {},
   "outputs": [
    {
     "name": "stdout",
     "output_type": "stream",
     "text": [
      "<class 'pandas.core.frame.DataFrame'>\n",
      "RangeIndex: 10000 entries, 0 to 9999\n",
      "Data columns (total 8 columns):\n",
      " #   Column              Non-Null Count  Dtype  \n",
      "---  ------              --------------  -----  \n",
      " 0   Transaction_ID      10000 non-null  int64  \n",
      " 1   Customer_ID         10000 non-null  int64  \n",
      " 2   Account_Type        10000 non-null  object \n",
      " 3   Total_Balance       10000 non-null  int64  \n",
      " 4   Transaction_Amount  10000 non-null  float64\n",
      " 5   Investment_Amount   10000 non-null  int64  \n",
      " 6   Investment_Type     10000 non-null  object \n",
      " 7   Transaction_Date    10000 non-null  object \n",
      "dtypes: float64(1), int64(4), object(3)\n",
      "memory usage: 625.1+ KB\n"
     ]
    }
   ],
   "source": [
    "df.info()"
   ]
  },
  {
   "cell_type": "markdown",
   "id": "eba26466",
   "metadata": {},
   "source": [
    " - conversion nécéssaire des dtypes: float64(1), object(3)\n",
    "    -  Account_Type        object \n",
    "    -  Transaction_Amount  float64 \n",
    "    -  Investment_Type     object \n",
    "    -  Transaction_Date    object"
   ]
  },
  {
   "cell_type": "code",
   "execution_count": 7,
   "id": "a59bee62",
   "metadata": {},
   "outputs": [
    {
     "data": {
      "text/html": [
       "<div>\n",
       "<style scoped>\n",
       "    .dataframe tbody tr th:only-of-type {\n",
       "        vertical-align: middle;\n",
       "    }\n",
       "\n",
       "    .dataframe tbody tr th {\n",
       "        vertical-align: top;\n",
       "    }\n",
       "\n",
       "    .dataframe thead th {\n",
       "        text-align: right;\n",
       "    }\n",
       "</style>\n",
       "<table border=\"1\" class=\"dataframe\">\n",
       "  <thead>\n",
       "    <tr style=\"text-align: right;\">\n",
       "      <th></th>\n",
       "      <th>Transaction_ID</th>\n",
       "      <th>Customer_ID</th>\n",
       "      <th>Total_Balance</th>\n",
       "      <th>Transaction_Amount</th>\n",
       "      <th>Investment_Amount</th>\n",
       "    </tr>\n",
       "  </thead>\n",
       "  <tbody>\n",
       "    <tr>\n",
       "      <th>count</th>\n",
       "      <td>10000.00000</td>\n",
       "      <td>10000.000000</td>\n",
       "      <td>10000.000000</td>\n",
       "      <td>10000.000000</td>\n",
       "      <td>10000.000000</td>\n",
       "    </tr>\n",
       "    <tr>\n",
       "      <th>mean</th>\n",
       "      <td>304999.50000</td>\n",
       "      <td>205028.182600</td>\n",
       "      <td>50221.505800</td>\n",
       "      <td>2542.708056</td>\n",
       "      <td>25550.248400</td>\n",
       "    </tr>\n",
       "    <tr>\n",
       "      <th>std</th>\n",
       "      <td>2886.89568</td>\n",
       "      <td>2909.008139</td>\n",
       "      <td>28540.392011</td>\n",
       "      <td>1432.677420</td>\n",
       "      <td>14108.052078</td>\n",
       "    </tr>\n",
       "    <tr>\n",
       "      <th>min</th>\n",
       "      <td>300000.00000</td>\n",
       "      <td>200000.000000</td>\n",
       "      <td>1003.000000</td>\n",
       "      <td>51.613952</td>\n",
       "      <td>1001.000000</td>\n",
       "    </tr>\n",
       "    <tr>\n",
       "      <th>25%</th>\n",
       "      <td>302499.75000</td>\n",
       "      <td>202498.750000</td>\n",
       "      <td>25132.000000</td>\n",
       "      <td>1310.000000</td>\n",
       "      <td>13381.000000</td>\n",
       "    </tr>\n",
       "    <tr>\n",
       "      <th>50%</th>\n",
       "      <td>304999.50000</td>\n",
       "      <td>205060.000000</td>\n",
       "      <td>50326.000000</td>\n",
       "      <td>2538.500000</td>\n",
       "      <td>25708.500000</td>\n",
       "    </tr>\n",
       "    <tr>\n",
       "      <th>75%</th>\n",
       "      <td>307499.25000</td>\n",
       "      <td>207561.000000</td>\n",
       "      <td>74914.500000</td>\n",
       "      <td>3746.250000</td>\n",
       "      <td>37731.000000</td>\n",
       "    </tr>\n",
       "    <tr>\n",
       "      <th>max</th>\n",
       "      <td>309999.00000</td>\n",
       "      <td>209999.000000</td>\n",
       "      <td>99993.000000</td>\n",
       "      <td>7046.296441</td>\n",
       "      <td>49998.000000</td>\n",
       "    </tr>\n",
       "  </tbody>\n",
       "</table>\n",
       "</div>"
      ],
      "text/plain": [
       "       Transaction_ID    Customer_ID  Total_Balance  Transaction_Amount  \\\n",
       "count     10000.00000   10000.000000   10000.000000        10000.000000   \n",
       "mean     304999.50000  205028.182600   50221.505800         2542.708056   \n",
       "std        2886.89568    2909.008139   28540.392011         1432.677420   \n",
       "min      300000.00000  200000.000000    1003.000000           51.613952   \n",
       "25%      302499.75000  202498.750000   25132.000000         1310.000000   \n",
       "50%      304999.50000  205060.000000   50326.000000         2538.500000   \n",
       "75%      307499.25000  207561.000000   74914.500000         3746.250000   \n",
       "max      309999.00000  209999.000000   99993.000000         7046.296441   \n",
       "\n",
       "       Investment_Amount  \n",
       "count       10000.000000  \n",
       "mean        25550.248400  \n",
       "std         14108.052078  \n",
       "min          1001.000000  \n",
       "25%         13381.000000  \n",
       "50%         25708.500000  \n",
       "75%         37731.000000  \n",
       "max         49998.000000  "
      ]
     },
     "execution_count": 7,
     "metadata": {},
     "output_type": "execute_result"
    }
   ],
   "source": [
    "df.describe()"
   ]
  },
  {
   "cell_type": "code",
   "execution_count": 8,
   "id": "8f2b66bb",
   "metadata": {},
   "outputs": [
    {
     "data": {
      "text/plain": [
       "Transaction_ID        10000\n",
       "Customer_ID            6335\n",
       "Account_Type              3\n",
       "Total_Balance          9517\n",
       "Transaction_Amount     4657\n",
       "Investment_Amount      9029\n",
       "Investment_Type           3\n",
       "Transaction_Date       1096\n",
       "dtype: int64"
      ]
     },
     "execution_count": 8,
     "metadata": {},
     "output_type": "execute_result"
    }
   ],
   "source": [
    "df.nunique()"
   ]
  },
  {
   "cell_type": "markdown",
   "id": "e1d05966",
   "metadata": {},
   "source": [
    "#Doublons à nettoyer ?\n",
    "- Transaction_ID        10000\n",
    "- Customer_ID            6335"
   ]
  },
  {
   "cell_type": "markdown",
   "id": "5aca75f1",
   "metadata": {},
   "source": [
    "## Nettoyage des données"
   ]
  },
  {
   "cell_type": "code",
   "execution_count": 9,
   "id": "0972546b",
   "metadata": {},
   "outputs": [
    {
     "data": {
      "text/plain": [
       "Transaction_ID        0\n",
       "Customer_ID           0\n",
       "Account_Type          0\n",
       "Total_Balance         0\n",
       "Transaction_Amount    0\n",
       "Investment_Amount     0\n",
       "Investment_Type       0\n",
       "Transaction_Date      0\n",
       "dtype: int64"
      ]
     },
     "execution_count": 9,
     "metadata": {},
     "output_type": "execute_result"
    }
   ],
   "source": [
    "# Vérification des valeurs manquantes\n",
    "df.isnull().sum()"
   ]
  },
  {
   "cell_type": "code",
   "execution_count": 10,
   "id": "b5f8ba05",
   "metadata": {},
   "outputs": [],
   "source": [
    "# Vérification des doublons\n",
    "df.drop_duplicates(inplace=True)\n"
   ]
  },
  {
   "cell_type": "code",
   "execution_count": 11,
   "id": "25be0b9a",
   "metadata": {},
   "outputs": [],
   "source": [
    "# Encodage des variables catégorielles\n",
    "df_encoded = pd.get_dummies(df, drop_first=True)"
   ]
  },
  {
   "cell_type": "code",
   "execution_count": 12,
   "id": "cfec4da0",
   "metadata": {},
   "outputs": [
    {
     "name": "stdout",
     "output_type": "stream",
     "text": [
      "\n",
      "DataFrame nettoyé sauvegardé avec succès dans : C:\\Users\\Admin\\Desktop\\BankingMLProject\\data\\transaction_data_cleaned.csv\n"
     ]
    }
   ],
   "source": [
    "# Sauvegarde du dossier 'transaction_data_cleaned' pour la suite du projet\n",
    "output_directory = r\"C:\\Users\\Admin\\Desktop\\BankingMLProject\\data\"\n",
    "\n",
    "# Nom du fichier CSV de sortie\n",
    "output_filename = \"transaction_data_cleaned.csv\"\n",
    "\n",
    "# Création du chemin complet du fichier de sortie\n",
    "output_filepath = os.path.join(output_directory, output_filename)\n",
    "\n",
    "#Sauvegarder du DataFrame nettoyé en CSV\n",
    "try:\n",
    "    # index=False pour ne pas écrire l'index du DataFrame comme une colonne dans le CSV\n",
    "    df.to_csv(output_filepath, index=False)\n",
    "    print(f\"\\nDataFrame nettoyé sauvegardé avec succès dans : {output_filepath}\")\n",
    "except Exception as e:\n",
    "    print(f\"\\nUne erreur est survenue lors de la sauvegarde : {e}\")"
   ]
  },
  {
   "cell_type": "code",
   "execution_count": null,
   "id": "692a6129",
   "metadata": {},
   "outputs": [],
   "source": []
  }
 ],
 "metadata": {
  "kernelspec": {
   "display_name": "base",
   "language": "python",
   "name": "python3"
  },
  "language_info": {
   "codemirror_mode": {
    "name": "ipython",
    "version": 3
   },
   "file_extension": ".py",
   "mimetype": "text/x-python",
   "name": "python",
   "nbconvert_exporter": "python",
   "pygments_lexer": "ipython3",
   "version": "3.11.5"
  }
 },
 "nbformat": 4,
 "nbformat_minor": 5
}
